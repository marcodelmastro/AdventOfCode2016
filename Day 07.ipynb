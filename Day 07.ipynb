{
 "cells": [
  {
   "cell_type": "markdown",
   "metadata": {},
   "source": [
    "# Day 7: Internet Protocol Version 7\n",
    "\n",
    "https://adventofcode.com/2016/day/7\n",
    "\n",
    "## Part 1"
   ]
  },
  {
   "cell_type": "code",
   "execution_count": 108,
   "metadata": {},
   "outputs": [],
   "source": [
    "def isABBA(x):\n",
    "    for i in range(0,len(x)-3):\n",
    "        x4 = x[i:i+4]\n",
    "        if x4[0:2]==x4[-1:-3:-1] and x4[0]!=x4[1]:\n",
    "            return True\n",
    "    return False\n",
    "\n",
    "def supportTLS(ip):\n",
    "    ips = ip.replace(\"[\",\"-\").replace(\"]\",\"-\").split(\"-\")\n",
    "    n = 1\n",
    "    status = False\n",
    "    for i in ips:\n",
    "        if n%2==1:\n",
    "            status = status or isABBA(i)\n",
    "        else:\n",
    "            if isABBA(i):\n",
    "                return False\n",
    "        n+=1\n",
    "    return status"
   ]
  },
  {
   "cell_type": "code",
   "execution_count": 109,
   "metadata": {},
   "outputs": [
    {
     "name": "stdout",
     "output_type": "stream",
     "text": [
      "True\n",
      "False\n",
      "False\n",
      "True\n"
     ]
    }
   ],
   "source": [
    "print(supportTLS(\"abba[mnop]qrst\"))\n",
    "print(supportTLS(\"abcd[bddb]xyyx\"))\n",
    "print(supportTLS(\"aaaa[qwer]tyui\"))\n",
    "print(supportTLS(\"ioxxoj[asdfgh]zxcvbn\"))"
   ]
  },
  {
   "cell_type": "code",
   "execution_count": 110,
   "metadata": {},
   "outputs": [
    {
     "name": "stdout",
     "output_type": "stream",
     "text": [
      "105\n"
     ]
    }
   ],
   "source": [
    "count = 0\n",
    "with open(\"data/input07.txt\") as f:\n",
    "    for ip in f.readlines():\n",
    "        if supportTLS(ip.strip(\"\\n\")):\n",
    "            count +=1\n",
    "print(count)"
   ]
  },
  {
   "cell_type": "markdown",
   "metadata": {},
   "source": [
    "## Part 2"
   ]
  },
  {
   "cell_type": "code",
   "execution_count": 114,
   "metadata": {},
   "outputs": [],
   "source": [
    "def hasABA(x):\n",
    "    ABA = []\n",
    "    for i in range(0,len(x)-2):\n",
    "        x3 = x[i:i+3]\n",
    "        if x3[0]==x3[2]!=x3[1]:\n",
    "            ABA.append(x3)\n",
    "    return ABA\n",
    "\n",
    "def getBAB(ABA):\n",
    "    return ABA[1]+ABA[0]+ABA[1]\n",
    "\n",
    "def supportSSL(ip):\n",
    "    ips = ip.replace(\"[\",\"-\").replace(\"]\",\"-\").split(\"-\")\n",
    "    # scan for ABA's, if any transform in BAB\n",
    "    BAB = []\n",
    "    for i in range(0,len(ips),2):\n",
    "        for aba in hasABA(ips[i]):\n",
    "            BAB.append(getBAB(aba))\n",
    "    # Check for BAB correspondence in string between square brackets\n",
    "    for bab in BAB:\n",
    "        for i in range(1,len(ips),2):\n",
    "            if bab in ips[i]:\n",
    "                return True\n",
    "    return False"
   ]
  },
  {
   "cell_type": "code",
   "execution_count": 115,
   "metadata": {},
   "outputs": [
    {
     "data": {
      "text/plain": [
       "True"
      ]
     },
     "execution_count": 115,
     "metadata": {},
     "output_type": "execute_result"
    }
   ],
   "source": [
    "supportSSL(\"zazbz[bzb]cdb\")"
   ]
  },
  {
   "cell_type": "code",
   "execution_count": 116,
   "metadata": {},
   "outputs": [
    {
     "name": "stdout",
     "output_type": "stream",
     "text": [
      "258\n"
     ]
    }
   ],
   "source": [
    "count = 0\n",
    "with open(\"data/input07.txt\") as f:\n",
    "    for ip in f.readlines():\n",
    "        if supportSSL(ip.strip(\"\\n\")):\n",
    "            count +=1\n",
    "print(count)"
   ]
  },
  {
   "cell_type": "code",
   "execution_count": null,
   "metadata": {},
   "outputs": [],
   "source": []
  }
 ],
 "metadata": {
  "kernelspec": {
   "display_name": "Python 3",
   "language": "python",
   "name": "python3"
  },
  "language_info": {
   "codemirror_mode": {
    "name": "ipython",
    "version": 3
   },
   "file_extension": ".py",
   "mimetype": "text/x-python",
   "name": "python",
   "nbconvert_exporter": "python",
   "pygments_lexer": "ipython3",
   "version": "3.9.0"
  }
 },
 "nbformat": 4,
 "nbformat_minor": 4
}
