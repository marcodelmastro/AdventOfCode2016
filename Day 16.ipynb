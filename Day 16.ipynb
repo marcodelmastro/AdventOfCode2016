{
 "cells": [
  {
   "cell_type": "markdown",
   "metadata": {},
   "source": [
    "# Day 16: Dragon Checksum\n",
    "\n",
    "https://adventofcode.com/2016/day/16"
   ]
  },
  {
   "cell_type": "code",
   "execution_count": 71,
   "metadata": {},
   "outputs": [],
   "source": [
    "def transform(a):\n",
    "    b = a[-1::-1].replace(\"1\",\"_\").replace(\"0\",\"1\").replace(\"_\",\"0\")\n",
    "    return a+\"0\"+b\n",
    "\n",
    "def checksum(b):\n",
    "    c = \"\"\n",
    "    for i in range(0,len(b),2):\n",
    "        p = b[i:i+2]\n",
    "        if p[0]==p[1]:\n",
    "            c+=\"1\"\n",
    "        else:\n",
    "            c+=\"0\"\n",
    "    return(c)\n",
    "\n",
    "def fillDisk(a,lenght):\n",
    "    while len(a)<lenght:\n",
    "        a = transform(a)\n",
    "    a = a[0:lenght]\n",
    "    c = checksum(a)\n",
    "    while len(c)%2==0:\n",
    "        c = checksum(c)\n",
    "    return(c)"
   ]
  },
  {
   "cell_type": "code",
   "execution_count": 72,
   "metadata": {},
   "outputs": [
    {
     "name": "stdout",
     "output_type": "stream",
     "text": [
      "01100\n"
     ]
    }
   ],
   "source": [
    "print(fillDisk(\"10000\",20))"
   ]
  },
  {
   "cell_type": "code",
   "execution_count": 75,
   "metadata": {},
   "outputs": [
    {
     "name": "stdout",
     "output_type": "stream",
     "text": [
      "10111110010110110\n"
     ]
    }
   ],
   "source": [
    "print(fillDisk('10011111011011001',272))"
   ]
  },
  {
   "cell_type": "code",
   "execution_count": 76,
   "metadata": {},
   "outputs": [
    {
     "name": "stdout",
     "output_type": "stream",
     "text": [
      "01101100001100100\n"
     ]
    }
   ],
   "source": [
    "print(fillDisk('10011111011011001',35651584))"
   ]
  },
  {
   "cell_type": "code",
   "execution_count": null,
   "metadata": {},
   "outputs": [],
   "source": []
  }
 ],
 "metadata": {
  "kernelspec": {
   "display_name": "Python 3",
   "language": "python",
   "name": "python3"
  },
  "language_info": {
   "codemirror_mode": {
    "name": "ipython",
    "version": 3
   },
   "file_extension": ".py",
   "mimetype": "text/x-python",
   "name": "python",
   "nbconvert_exporter": "python",
   "pygments_lexer": "ipython3",
   "version": "3.9.0"
  }
 },
 "nbformat": 4,
 "nbformat_minor": 4
}
