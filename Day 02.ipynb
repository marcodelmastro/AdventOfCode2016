{
 "cells": [
  {
   "cell_type": "markdown",
   "metadata": {},
   "source": [
    "# Day 2: Bathroom Security\n",
    "\n",
    "https://adventofcode.com/2016/day/2\n",
    "\n",
    "## Part 1"
   ]
  },
  {
   "cell_type": "code",
   "execution_count": 42,
   "metadata": {},
   "outputs": [],
   "source": [
    "move = { 'U': +1j,\n",
    "         'D': -1j,\n",
    "         'L': -1,\n",
    "         'R': +1 }\n",
    "\n",
    "pad = { -1+1j: 1, 0+1j: 2, +1+1j: 3, \n",
    "        -1:    4, 0:    5, +1:    6,\n",
    "        -1-1j: 7, 0-1j: 8, +1-1j: 9 } \n",
    "\n",
    "def getCode(instructions):\n",
    "    code = \"\"\n",
    "    p = 0\n",
    "    for i in instructions:\n",
    "        for m in i:\n",
    "            np = p + move[m]\n",
    "            if abs(np)<2:\n",
    "                p = np\n",
    "        code += str(pad[p])\n",
    "    return int(code)"
   ]
  },
  {
   "cell_type": "code",
   "execution_count": 45,
   "metadata": {},
   "outputs": [
    {
     "data": {
      "text/plain": [
       "1985"
      ]
     },
     "execution_count": 45,
     "metadata": {},
     "output_type": "execute_result"
    }
   ],
   "source": [
    "instructions_test = [\n",
    "    'ULL',\n",
    "    'RRDDD',\n",
    "    'LURDL',\n",
    "    'UUUUD'\n",
    "]\n",
    "\n",
    "getCode(instructions_test)"
   ]
  },
  {
   "cell_type": "code",
   "execution_count": 46,
   "metadata": {},
   "outputs": [
    {
     "data": {
      "text/plain": [
       "12578"
      ]
     },
     "execution_count": 46,
     "metadata": {},
     "output_type": "execute_result"
    }
   ],
   "source": [
    "f = open('./data/input02.txt')\n",
    "instructions = [ l.strip('\\n') for l in f.readlines() ]\n",
    "getCode(instructions)"
   ]
  },
  {
   "cell_type": "markdown",
   "metadata": {},
   "source": [
    "## Part 2"
   ]
  },
  {
   "cell_type": "code",
   "execution_count": 47,
   "metadata": {},
   "outputs": [],
   "source": [
    "#     1\n",
    "#   2 3 4\n",
    "# 5 6 7 8 9\n",
    "#   A B C\n",
    "#     D\n",
    "\n",
    "pad2 = { -2+2j: '0', -1+2j: '0', 0+2j: '1', +1+2j: '0', +2+2j: '0',\n",
    "         -2+1j: '0', -1+1j: '2', 0+1j: '3', +1+1j: '4', +2+1j: '0',\n",
    "         -2:    '5', -1:    '6', 0:    '7', +1:    '8', +2:    '9',\n",
    "         -2-1j: '0', -1-1j: 'A', 0-1j: 'B', +1-1j: 'C', +2-1j: '0',\n",
    "         -2-2j: '0', -1-2j: '0', 0-2j: 'D', +1-2j: '0', +2-2j: '0' }"
   ]
  },
  {
   "cell_type": "code",
   "execution_count": 51,
   "metadata": {},
   "outputs": [],
   "source": [
    "def getCode2(instructions):\n",
    "    code = \"\"\n",
    "    p = -2 \n",
    "    for i in instructions:\n",
    "        for m in i:\n",
    "            np = p + move[m]\n",
    "            if abs(np)<3:\n",
    "                if pad2[np] != '0':\n",
    "                    p = np \n",
    "        code += pad2[p]\n",
    "    return code"
   ]
  },
  {
   "cell_type": "code",
   "execution_count": 52,
   "metadata": {},
   "outputs": [
    {
     "data": {
      "text/plain": [
       "'5DB3'"
      ]
     },
     "execution_count": 52,
     "metadata": {},
     "output_type": "execute_result"
    }
   ],
   "source": [
    "getCode2(instructions_test)"
   ]
  },
  {
   "cell_type": "code",
   "execution_count": 53,
   "metadata": {},
   "outputs": [
    {
     "data": {
      "text/plain": [
       "'516DD'"
      ]
     },
     "execution_count": 53,
     "metadata": {},
     "output_type": "execute_result"
    }
   ],
   "source": [
    "getCode2(instructions)"
   ]
  },
  {
   "cell_type": "code",
   "execution_count": null,
   "metadata": {},
   "outputs": [],
   "source": []
  }
 ],
 "metadata": {
  "kernelspec": {
   "display_name": "Python 3",
   "language": "python",
   "name": "python3"
  },
  "language_info": {
   "codemirror_mode": {
    "name": "ipython",
    "version": 3
   },
   "file_extension": ".py",
   "mimetype": "text/x-python",
   "name": "python",
   "nbconvert_exporter": "python",
   "pygments_lexer": "ipython3",
   "version": "3.9.0"
  }
 },
 "nbformat": 4,
 "nbformat_minor": 4
}
