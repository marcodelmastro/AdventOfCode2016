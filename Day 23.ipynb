{
 "cells": [
  {
   "cell_type": "markdown",
   "metadata": {},
   "source": [
    "# Day 23: Safe Cracking\n",
    "\n",
    "https://adventofcode.com/2016/day/23\n",
    "\n",
    "A modified version of the `assembunny` code from Day 12, inclusing a new `toggle` instruction that modify program during executions..."
   ]
  },
  {
   "cell_type": "code",
   "execution_count": 191,
   "metadata": {},
   "outputs": [],
   "source": [
    "def assembunny(_prog,a=0,b=0,c=0,d=0,verbose=False): \n",
    "    prog = list(_prog) # make a copy of the program to facilitate reuse and testing\n",
    "    reg = { 'a': a, 'b': b, 'c': c, 'd': d }\n",
    "    i = 0\n",
    "    while True:\n",
    "        if i>=len(prog):\n",
    "            break\n",
    "        cmd = prog[i].split(\" \")\n",
    "        if cmd[0]==\"cpy\":\n",
    "            v = 0\n",
    "            try:\n",
    "                v = int(cmd[1])\n",
    "            except:\n",
    "                v = reg[cmd[1]]\n",
    "            # check if instruction is valid after toggling (e.g. cmd[2] should be a register)\n",
    "            if cmd[2] in [\"a\",\"b\",\"c\",\"d\"]:\n",
    "                reg[cmd[2]] = v\n",
    "            i+=1\n",
    "        elif cmd[0]==\"inc\":\n",
    "            reg[cmd[1]] += 1\n",
    "            i+=1\n",
    "        elif cmd[0]==\"dec\":\n",
    "            reg[cmd[1]] -= 1\n",
    "            i+=1\n",
    "        elif cmd[0]==\"jnz\":\n",
    "            v= 0 \n",
    "            try:\n",
    "                v = int(cmd[1])\n",
    "            except:\n",
    "                v = reg[cmd[1]]\n",
    "            if v!= 0:\n",
    "                try:\n",
    "                    i += int(cmd[2])\n",
    "                except:\n",
    "                    i += reg[cmd[2]]\n",
    "            else:\n",
    "                i += 1 \n",
    "        elif cmd[0]==\"tgl\":\n",
    "            # get the instruction to be toggled\n",
    "            v = 0\n",
    "            try:\n",
    "                v = int(cmd[1])\n",
    "            except:\n",
    "                v = reg[cmd[1]]\n",
    "            if i+v>=len(prog): # outside the program, do nothing\n",
    "                pass\n",
    "            else:\n",
    "                ctgl = prog[i+v].split(\" \")\n",
    "                if len(ctgl)==2: # one argument\n",
    "                    if ctgl[0]==\"inc\":\n",
    "                        ctgl[0] = \"dec\"\n",
    "                    else:\n",
    "                        ctgl[0] = \"inc\"\n",
    "                else:\n",
    "                    if ctgl[0]==\"jnz\":\n",
    "                        ctgl[0] = \"cpy\"\n",
    "                    else:\n",
    "                        ctgl[0] = \"jnz\"\n",
    "                prog[i+v] = \" \".join(ctgl)\n",
    "            i+=1\n",
    "        if verbose:\n",
    "            print(\"{}  {} \\t {}\".format(i-1,prog[i-1],reg))\n",
    "    return reg"
   ]
  },
  {
   "cell_type": "code",
   "execution_count": 192,
   "metadata": {},
   "outputs": [],
   "source": [
    "prog = [\n",
    "\"cpy 2 a\",\n",
    "\"tgl a\",\n",
    "\"tgl a\",\n",
    "\"tgl a\",\n",
    "\"cpy 1 a\",\n",
    "\"dec a\",\n",
    "\"dec a\"\n",
    "]"
   ]
  },
  {
   "cell_type": "code",
   "execution_count": 193,
   "metadata": {},
   "outputs": [
    {
     "name": "stdout",
     "output_type": "stream",
     "text": [
      "0  cpy 2 a \t {'a': 2, 'b': 0, 'c': 0, 'd': 0}\n",
      "1  tgl a \t {'a': 2, 'b': 0, 'c': 0, 'd': 0}\n",
      "2  tgl a \t {'a': 2, 'b': 0, 'c': 0, 'd': 0}\n",
      "3  inc a \t {'a': 3, 'b': 0, 'c': 0, 'd': 0}\n",
      "6  dec a \t {'a': 3, 'b': 0, 'c': 0, 'd': 0}\n"
     ]
    },
    {
     "data": {
      "text/plain": [
       "{'a': 3, 'b': 0, 'c': 0, 'd': 0}"
      ]
     },
     "execution_count": 193,
     "metadata": {},
     "output_type": "execute_result"
    }
   ],
   "source": [
    "assembunny(prog,verbose=True) "
   ]
  },
  {
   "cell_type": "markdown",
   "metadata": {},
   "source": [
    "## Part 1"
   ]
  },
  {
   "cell_type": "code",
   "execution_count": 194,
   "metadata": {},
   "outputs": [
    {
     "name": "stdout",
     "output_type": "stream",
     "text": [
      "10584\n"
     ]
    }
   ],
   "source": [
    "with open('data/input23.txt') as f:\n",
    "    prog = [ l.strip(\"\\n\") for l in f.readlines() ] \n",
    "\n",
    "reg = assembunny(prog,a=7)\n",
    "print(reg['a'])"
   ]
  },
  {
   "cell_type": "markdown",
   "metadata": {},
   "source": [
    "## Part 2\n",
    "\n",
    "Execution time grows dramatically, and the puzzle test suggests addition should be replaced by multiplication.\n",
    "\n",
    "After some digging, I understand this simple assembry code implement multiplication as series of addition +1. This is definitively not very efficient, especially given what the code is trying to do. More trial-and error seems in fact to indicate that the code compute the factorial of the value input to register `a`: obviously the execution time explodes!\n",
    "\n",
    "Ideally, I should implement some optimization of the assembly code to replace the loop implementing the multiplication as series of addition with a real multiplication. Unfortunately, my understanding of assembly of compiler optimisation is almost null.\n",
    "\n",
    "On the other hand, a few tests has lead me to understand what the program does: given the input `N` in register `a`, it computes:\n",
    "\n",
    "`factorial(N) + 72*77`\n",
    "\n",
    "where the values `72` and `77` are stored in these instructions in my version of the original code:\n",
    "\n",
    "`cpy 72 c`\n",
    "\n",
    "`jnz 77 d`\n",
    "\n",
    "Note the these instructions get modified by the previous `tgl` instruction to obfuscate what the program is doing even more!"
   ]
  },
  {
   "cell_type": "code",
   "execution_count": 195,
   "metadata": {},
   "outputs": [
    {
     "name": "stdout",
     "output_type": "stream",
     "text": [
      "10584 = 10584\n"
     ]
    }
   ],
   "source": [
    "import math\n",
    "\n",
    "reg = assembunny(prog,a=7)\n",
    "\n",
    "print(reg['a'],'=',math.factorial(7)+72*77)"
   ]
  },
  {
   "cell_type": "markdown",
   "metadata": {},
   "source": [
    "So this should be the solution to Part 2:"
   ]
  },
  {
   "cell_type": "code",
   "execution_count": 196,
   "metadata": {},
   "outputs": [
    {
     "name": "stdout",
     "output_type": "stream",
     "text": [
      "479007144\n"
     ]
    }
   ],
   "source": [
    "print(math.factorial(12)+72*77)"
   ]
  },
  {
   "cell_type": "markdown",
   "metadata": {},
   "source": [
    "I would anyway try to brute-force the solution using the basic assembly implementation before submitting the answer... Given the timing results for the lower value of `n`, I estimate around one hour of execution time.\n",
    "\n",
    "BTW, I noticed that the execution time also esplodes for n<=5, I'm wondering if the code works in the same way for those values. Maybe at some point I'll check..."
   ]
  },
  {
   "cell_type": "code",
   "execution_count": 213,
   "metadata": {},
   "outputs": [
    {
     "name": "stdout",
     "output_type": "stream",
     "text": [
      "  6 |            6264 |            6264 |        0' 0''\n",
      "  7 |           10584 |           10584 |        0' 0''\n",
      "  8 |           45864 |           45864 |        0' 0''\n",
      "  9 |          368424 |          368424 |        0' 2''\n",
      " 10 |         3634344 |         3634344 |        0'27''\n",
      " 11 |        39922344 |        39922344 |        5' 3''\n",
      " 12 |       479007144 |       479007144 |       73'57''\n"
     ]
    }
   ],
   "source": [
    "from timeit import default_timer as timer\n",
    "start = timer()\n",
    "\n",
    "def checkResults(n,prog):\n",
    "    reg = assembunny(prog,a=n,verbose=False)\n",
    "    return reg['a']\n",
    "\n",
    "for n in range(6,13):\n",
    "    r = checkResults(n,prog)\n",
    "    lap = timer()\n",
    "    sec = int(lap-start)\n",
    "    print(\"{0:3d} | {1:15d} | {2:15d} | {3:8d}'{4:2d}''\".format(n,r,math.factorial(n)+72*77,sec//60,sec%60))\n",
    "    start = lap"
   ]
  },
  {
   "cell_type": "code",
   "execution_count": null,
   "metadata": {},
   "outputs": [],
   "source": []
  }
 ],
 "metadata": {
  "kernelspec": {
   "display_name": "Python 3",
   "language": "python",
   "name": "python3"
  },
  "language_info": {
   "codemirror_mode": {
    "name": "ipython",
    "version": 3
   },
   "file_extension": ".py",
   "mimetype": "text/x-python",
   "name": "python",
   "nbconvert_exporter": "python",
   "pygments_lexer": "ipython3",
   "version": "3.9.0"
  }
 },
 "nbformat": 4,
 "nbformat_minor": 4
}
