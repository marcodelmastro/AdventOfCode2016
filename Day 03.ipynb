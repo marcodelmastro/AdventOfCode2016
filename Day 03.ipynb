{
 "cells": [
  {
   "cell_type": "markdown",
   "metadata": {},
   "source": [
    "# Day 3: Squares With Three Sides\n",
    "\n",
    "https://adventofcode.com/2016/day/3"
   ]
  },
  {
   "cell_type": "code",
   "execution_count": 38,
   "metadata": {},
   "outputs": [
    {
     "name": "stdout",
     "output_type": "stream",
     "text": [
      "993\n"
     ]
    }
   ],
   "source": [
    "import re\n",
    "\n",
    "possible = 0\n",
    "with open('./data/input03.txt') as f:\n",
    "    for line in f:\n",
    "        num = sorted([ int(n) for n in re.findall('[0-9]+', line) ])\n",
    "        if num[0]+num[1]>num[2]:\n",
    "            possible += 1\n",
    "print(possible)"
   ]
  },
  {
   "cell_type": "code",
   "execution_count": 39,
   "metadata": {},
   "outputs": [
    {
     "name": "stdout",
     "output_type": "stream",
     "text": [
      "1849\n"
     ]
    }
   ],
   "source": [
    "import re\n",
    "\n",
    "possible = 0\n",
    "with open('./data/input03.txt') as f:\n",
    "    l = 0\n",
    "    t = [[],[],[]]\n",
    "    for line in f:\n",
    "        num = [ int(n) for n in re.findall('[0-9]+', line) ]\n",
    "        if l<3:\n",
    "            for i in range(3):\n",
    "                t[i].append(num[i])\n",
    "            l+=1\n",
    "        if l==3:\n",
    "            for n in t:\n",
    "                n = sorted(n)\n",
    "                if n[0]+n[1]>n[2]:\n",
    "                    possible += 1\n",
    "            l = 0\n",
    "            t = [[],[],[]]\n",
    "print(possible)"
   ]
  },
  {
   "cell_type": "code",
   "execution_count": null,
   "metadata": {},
   "outputs": [],
   "source": []
  }
 ],
 "metadata": {
  "kernelspec": {
   "display_name": "Python 3",
   "language": "python",
   "name": "python3"
  },
  "language_info": {
   "codemirror_mode": {
    "name": "ipython",
    "version": 3
   },
   "file_extension": ".py",
   "mimetype": "text/x-python",
   "name": "python",
   "nbconvert_exporter": "python",
   "pygments_lexer": "ipython3",
   "version": "3.9.0"
  }
 },
 "nbformat": 4,
 "nbformat_minor": 4
}
