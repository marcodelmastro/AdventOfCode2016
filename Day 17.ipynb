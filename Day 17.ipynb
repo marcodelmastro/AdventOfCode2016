{
 "cells": [
  {
   "cell_type": "markdown",
   "metadata": {},
   "source": [
    "# Day 17\n",
    "\n",
    "https://adventofcode.com/2016/day/17"
   ]
  },
  {
   "cell_type": "code",
   "execution_count": 119,
   "metadata": {},
   "outputs": [],
   "source": [
    "import hashlib\n",
    "from queue import Queue\n",
    "from collections import defaultdict\n",
    "\n",
    "def getAdjacent(n):\n",
    "    x,y = n\n",
    "    return [(x,y-1), # U\n",
    "            (x,y+1), # D\n",
    "            (x-1,y), # L\n",
    "            (x+1,y)] # R\n",
    "\n",
    "def doors(p,path=\"\"):\n",
    "    s = p+path\n",
    "    r = hashlib.md5(s.encode())\n",
    "    #print(r.hexdigest()[:4])\n",
    "    # up, down, left, right\n",
    "    return [ c in \"bcdef\" for c in r.hexdigest()[:4] ]\n",
    "\n",
    "def ShortestPathToVault(p):\n",
    "    grid = [\n",
    "    \"######\",\n",
    "    \"#    #\",\n",
    "    \"#    #\",\n",
    "    \"#    #\",\n",
    "    \"#   V#\",\n",
    "    \"######\",\n",
    "    ]\n",
    "    MOVES = \"UDLR\"\n",
    "    start = (1,1)\n",
    "    path = (start,\"\")\n",
    "    queue = Queue()\n",
    "    queue.put(path)\n",
    "    while not queue.empty():\n",
    "        path = queue.get()\n",
    "        xc,yc = path[0]\n",
    "        moves = path[1]\n",
    "        for a,isOpen,M in zip(getAdjacent((xc,yc)),doors(p,moves),MOVES):\n",
    "            xa,ya = a\n",
    "            if grid[ya][xa]=='#' or not isOpen:\n",
    "                continue\n",
    "            elif grid[ya][xa]==\"V\":\n",
    "                nextmoves = moves + M\n",
    "                return(nextmoves)\n",
    "                break\n",
    "            else:\n",
    "                nextmoves = moves + M\n",
    "                newpath = ((xa,ya),nextmoves)\n",
    "                queue.put(newpath)\n",
    "    print(\"Blocked in {} after {}\".format(path[0],path[1]))\n",
    "    return path"
   ]
  },
  {
   "cell_type": "code",
   "execution_count": 120,
   "metadata": {},
   "outputs": [
    {
     "name": "stdout",
     "output_type": "stream",
     "text": [
      "Blocked in (2, 1) after DUR\n"
     ]
    },
    {
     "data": {
      "text/plain": [
       "((2, 1), 'DUR')"
      ]
     },
     "execution_count": 120,
     "metadata": {},
     "output_type": "execute_result"
    }
   ],
   "source": [
    "ShortestPathToVault(\"hijkl\")"
   ]
  },
  {
   "cell_type": "code",
   "execution_count": 121,
   "metadata": {},
   "outputs": [
    {
     "name": "stdout",
     "output_type": "stream",
     "text": [
      "DDRRRD\n",
      "DDUDRLRRUDRD\n",
      "DRURDRUDDLLDLUURRDULRLDUUDDDRR\n"
     ]
    }
   ],
   "source": [
    "print(ShortestPathToVault(\"ihgpwlah\")) #=='DDRRRD'\n",
    "print(ShortestPathToVault(\"kglvqrro\")) #=='DDUDRLRRUDRD'\n",
    "print(ShortestPathToVault(\"ulqzkmiv\")) #=='DRURDRUDDLLDLUURRDULRLDUUDDDRR'"
   ]
  },
  {
   "cell_type": "code",
   "execution_count": 122,
   "metadata": {},
   "outputs": [
    {
     "name": "stdout",
     "output_type": "stream",
     "text": [
      "RDDRLDRURD\n"
     ]
    }
   ],
   "source": [
    "print(ShortestPathToVault(\"qzthpkfp\"))"
   ]
  },
  {
   "cell_type": "code",
   "execution_count": 134,
   "metadata": {},
   "outputs": [],
   "source": [
    "def AllPathsToVault(p):\n",
    "    grid = [\n",
    "    \"######\",\n",
    "    \"#    #\",\n",
    "    \"#    #\",\n",
    "    \"#    #\",\n",
    "    \"#   V#\",\n",
    "    \"######\",\n",
    "    ]\n",
    "    MOVES = \"UDLR\"\n",
    "    start = (1,1)\n",
    "    path = (start,\"\")\n",
    "    queue = Queue()\n",
    "    queue.put(path)\n",
    "    paths = []\n",
    "    lenghs = []\n",
    "    while not queue.empty():\n",
    "        path = queue.get()\n",
    "        xc,yc = path[0]\n",
    "        moves = path[1]\n",
    "        for a,isOpen,M in zip(getAdjacent((xc,yc)),doors(p,moves),MOVES):\n",
    "            xa,ya = a\n",
    "            if grid[ya][xa]=='#' or not isOpen:\n",
    "                continue\n",
    "            elif grid[ya][xa]==\"V\":\n",
    "                nextmoves = moves + M\n",
    "                paths.append(nextmoves)\n",
    "                lenghs.append(len(nextmoves))\n",
    "            else:\n",
    "                nextmoves = moves + M\n",
    "                newpath = ((xa,ya),nextmoves)\n",
    "                queue.put(newpath)\n",
    "    return paths, lenghs"
   ]
  },
  {
   "cell_type": "code",
   "execution_count": 135,
   "metadata": {},
   "outputs": [
    {
     "name": "stdout",
     "output_type": "stream",
     "text": [
      "370\n"
     ]
    }
   ],
   "source": [
    "paths, lenghs = AllPathsToVault(\"ihgpwlah\")\n",
    "print(max(lenghs))"
   ]
  },
  {
   "cell_type": "code",
   "execution_count": 138,
   "metadata": {},
   "outputs": [
    {
     "name": "stdout",
     "output_type": "stream",
     "text": [
      "492\n"
     ]
    }
   ],
   "source": [
    "paths, lenghs = AllPathsToVault(\"kglvqrro\")\n",
    "print(max(lenghs))"
   ]
  },
  {
   "cell_type": "code",
   "execution_count": 137,
   "metadata": {},
   "outputs": [
    {
     "name": "stdout",
     "output_type": "stream",
     "text": [
      "830\n"
     ]
    }
   ],
   "source": [
    "paths, lenghs = AllPathsToVault(\"ulqzkmiv\")\n",
    "print(max(lenghs))"
   ]
  },
  {
   "cell_type": "code",
   "execution_count": 139,
   "metadata": {},
   "outputs": [
    {
     "name": "stdout",
     "output_type": "stream",
     "text": [
      "448\n"
     ]
    }
   ],
   "source": [
    "paths, lenghs = AllPathsToVault(\"qzthpkfp\")\n",
    "print(max(lenghs))"
   ]
  },
  {
   "cell_type": "code",
   "execution_count": null,
   "metadata": {},
   "outputs": [],
   "source": []
  }
 ],
 "metadata": {
  "kernelspec": {
   "display_name": "Python 3",
   "language": "python",
   "name": "python3"
  },
  "language_info": {
   "codemirror_mode": {
    "name": "ipython",
    "version": 3
   },
   "file_extension": ".py",
   "mimetype": "text/x-python",
   "name": "python",
   "nbconvert_exporter": "python",
   "pygments_lexer": "ipython3",
   "version": "3.9.0"
  }
 },
 "nbformat": 4,
 "nbformat_minor": 4
}
