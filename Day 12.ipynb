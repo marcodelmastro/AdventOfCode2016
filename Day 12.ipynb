{
 "cells": [
  {
   "cell_type": "markdown",
   "metadata": {},
   "source": [
    "# Day 12: Leonardo's Monorail\n",
    "\n",
    "https://adventofcode.com/2016/day/12"
   ]
  },
  {
   "cell_type": "code",
   "execution_count": 32,
   "metadata": {},
   "outputs": [],
   "source": [
    "def assembunny(prog,c=0,verbose=False): \n",
    "    reg = { 'a': 0, 'b': 0, 'c': c, 'd': 0 }\n",
    "    i = 0\n",
    "    while True:\n",
    "        if i>=len(prog):\n",
    "            break\n",
    "        cmd = prog[i].split(\" \")\n",
    "        if verbose:\n",
    "            print(cmd)\n",
    "        if cmd[0]==\"cpy\":\n",
    "            try:\n",
    "                v = int(cmd[1])\n",
    "                reg[cmd[2]] = v\n",
    "            except:\n",
    "                reg[cmd[2]] = reg[cmd[1]]\n",
    "            i+=1\n",
    "        elif cmd[0]==\"inc\":\n",
    "            reg[cmd[1]] += 1\n",
    "            i+=1\n",
    "        elif cmd[0]==\"dec\":\n",
    "            reg[cmd[1]] -= 1\n",
    "            i+=1\n",
    "        elif cmd[0]==\"jnz\":\n",
    "            v= 0 \n",
    "            try:\n",
    "                v = int(cmd[1])\n",
    "            except:\n",
    "                v = reg[cmd[1]]\n",
    "            if v!= 0:\n",
    "                i += int(cmd[2])\n",
    "            else:\n",
    "                i += 1    \n",
    "    return reg"
   ]
  },
  {
   "cell_type": "code",
   "execution_count": 33,
   "metadata": {},
   "outputs": [
    {
     "name": "stdout",
     "output_type": "stream",
     "text": [
      "['cpy', '41', 'a']\n",
      "['inc', 'a']\n",
      "['inc', 'a']\n",
      "['dec', 'a']\n",
      "['jnz', 'a', '2']\n",
      "{'a': 42, 'b': 0, 'c': 0, 'd': 0}\n"
     ]
    }
   ],
   "source": [
    "prog = [\n",
    "    'cpy 41 a',\n",
    "    'inc a',\n",
    "    'inc a',\n",
    "    'dec a',\n",
    "    'jnz a 2',\n",
    "    'dec a'\n",
    "]\n",
    "\n",
    "reg = assembunny(prog,verbose=True)\n",
    "print(reg)"
   ]
  },
  {
   "cell_type": "code",
   "execution_count": 34,
   "metadata": {},
   "outputs": [
    {
     "name": "stdout",
     "output_type": "stream",
     "text": [
      "318020\n"
     ]
    }
   ],
   "source": [
    "with open('data/input12.txt') as f:\n",
    "    prog = [ l.strip(\"\\n\") for l in f.readlines() ] \n",
    "    \n",
    "reg = assembunny(prog)\n",
    "print(reg['a'])"
   ]
  },
  {
   "cell_type": "code",
   "execution_count": 35,
   "metadata": {},
   "outputs": [
    {
     "name": "stdout",
     "output_type": "stream",
     "text": [
      "9227674\n"
     ]
    }
   ],
   "source": [
    "reg = assembunny(prog,c=1)\n",
    "print(reg['a'])"
   ]
  },
  {
   "cell_type": "code",
   "execution_count": null,
   "metadata": {},
   "outputs": [],
   "source": []
  }
 ],
 "metadata": {
  "kernelspec": {
   "display_name": "Python 3",
   "language": "python",
   "name": "python3"
  },
  "language_info": {
   "codemirror_mode": {
    "name": "ipython",
    "version": 3
   },
   "file_extension": ".py",
   "mimetype": "text/x-python",
   "name": "python",
   "nbconvert_exporter": "python",
   "pygments_lexer": "ipython3",
   "version": "3.9.0"
  }
 },
 "nbformat": 4,
 "nbformat_minor": 4
}
