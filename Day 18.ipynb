{
 "cells": [
  {
   "cell_type": "markdown",
   "metadata": {},
   "source": [
    "# Day 18: Like a Rogue\n",
    "\n",
    "https://adventofcode.com/2016/day/18"
   ]
  },
  {
   "cell_type": "code",
   "execution_count": 45,
   "metadata": {},
   "outputs": [],
   "source": [
    "def getNewRow(row):\n",
    "    newrow = \"\"\n",
    "    for i in range(len(row)):\n",
    "        if i>0:\n",
    "            L = row[i-1]\n",
    "        else:\n",
    "            L = \".\"\n",
    "        C = row[i]\n",
    "        if i<len(row)-1:\n",
    "            R = row[i+1]\n",
    "        else:\n",
    "            R = \".\"\n",
    "        if (L==C==\"^\" and R==\".\") or \\\n",
    "           (C==R==\"^\" and L==\".\") or \\\n",
    "           (L==\"^\" and C==R==\".\") or \\\n",
    "           (R==\"^\" and C==L==\".\") :\n",
    "            newrow += \"^\"\n",
    "        else:\n",
    "            newrow += \".\"\n",
    "    return newrow\n",
    "\n",
    "def buildTiles(row,nrows):\n",
    "    tiles = []\n",
    "    tiles.append(row)\n",
    "    for _ in range(nrows-1):\n",
    "        newrow = getNewRow(row)\n",
    "        if newrow == row : # checkin for possible recurrence in case Part 2 could be solved quicker\n",
    "            print(\"recurrence at row\",len(tiles))\n",
    "            break\n",
    "        tiles.append(newrow)\n",
    "        row = newrow\n",
    "    return tiles"
   ]
  },
  {
   "cell_type": "code",
   "execution_count": 46,
   "metadata": {},
   "outputs": [
    {
     "name": "stdout",
     "output_type": "stream",
     "text": [
      "38\n"
     ]
    }
   ],
   "source": [
    "row = \".^^.^.^^^^\"\n",
    "tiles = buildTiles(row,10)\n",
    "safe = 0\n",
    "for t in tiles:\n",
    "    safe += t.count(\".\")\n",
    "print(safe)"
   ]
  },
  {
   "cell_type": "code",
   "execution_count": 47,
   "metadata": {},
   "outputs": [
    {
     "name": "stdout",
     "output_type": "stream",
     "text": [
      "1961\n"
     ]
    }
   ],
   "source": [
    "with open(\"data/input18.txt\") as f:\n",
    "    row = f.readlines()[0].strip(\"\\n\")\n",
    "\n",
    "tiles = buildTiles(row,40)\n",
    "safe = 0\n",
    "for t in tiles:\n",
    "    safe += t.count(\".\")\n",
    "print(safe)"
   ]
  },
  {
   "cell_type": "code",
   "execution_count": 48,
   "metadata": {},
   "outputs": [
    {
     "name": "stdout",
     "output_type": "stream",
     "text": [
      "20000795\n"
     ]
    }
   ],
   "source": [
    "tiles = buildTiles(row,400000)\n",
    "safe = 0\n",
    "for t in tiles:\n",
    "    safe += t.count(\".\")\n",
    "print(safe)"
   ]
  },
  {
   "cell_type": "code",
   "execution_count": null,
   "metadata": {},
   "outputs": [],
   "source": []
  }
 ],
 "metadata": {
  "kernelspec": {
   "display_name": "Python 3",
   "language": "python",
   "name": "python3"
  },
  "language_info": {
   "codemirror_mode": {
    "name": "ipython",
    "version": 3
   },
   "file_extension": ".py",
   "mimetype": "text/x-python",
   "name": "python",
   "nbconvert_exporter": "python",
   "pygments_lexer": "ipython3",
   "version": "3.9.0"
  }
 },
 "nbformat": 4,
 "nbformat_minor": 4
}
