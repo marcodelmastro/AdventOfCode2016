{
 "cells": [
  {
   "cell_type": "markdown",
   "metadata": {},
   "source": [
    "# Day 19: An Elephant Named Joseph\n",
    "\n",
    "https://adventofcode.com/2016/day/19\n",
    "\n",
    "## Part 1\n",
    "\n",
    "### First solution, a dictionary as a linked list\n",
    "\n",
    "It works, but it's not fast!"
   ]
  },
  {
   "cell_type": "code",
   "execution_count": 14,
   "metadata": {},
   "outputs": [],
   "source": [
    "def whiteElephantDict(n):\n",
    "    neig = {}\n",
    "    for i in range(1,n):\n",
    "        neig[i] = (i+1)\n",
    "    neig[n] = 1\n",
    "    i = 1\n",
    "    while len(neig)>1:\n",
    "        if i in neig.keys():\n",
    "            ne = neig[i]\n",
    "            neig[i] = neig[ne]\n",
    "            del neig[ne]\n",
    "        i+=1\n",
    "        if i>n:\n",
    "            i=1\n",
    "    return list(neig.keys())[0]"
   ]
  },
  {
   "cell_type": "code",
   "execution_count": 16,
   "metadata": {},
   "outputs": [
    {
     "name": "stdout",
     "output_type": "stream",
     "text": [
      "3\n"
     ]
    }
   ],
   "source": [
    "print(whiteElephantDict(3))"
   ]
  },
  {
   "cell_type": "code",
   "execution_count": 18,
   "metadata": {},
   "outputs": [
    {
     "name": "stdout",
     "output_type": "stream",
     "text": [
      "1834471\n",
      "Time elapsed = 14 s\n"
     ]
    }
   ],
   "source": [
    "from timeit import default_timer as timer\n",
    "start = timer()\n",
    "\n",
    "print(whiteElephantDict(3014387))\n",
    "\n",
    "stop = timer()\n",
    "print(\"Time elapsed =\",int(stop-start),\"s\")"
   ]
  },
  {
   "cell_type": "markdown",
   "metadata": {},
   "source": [
    "## Part 1 \n",
    "\n",
    "### A better idea!\n",
    "\n",
    "By observing how the list of playing elfs evolves, I realised I can simply pop elements from it according to a simple algorithm with slightly different behavior according to whether the lenght of the list is odd (the last player takes the gift of the first, that gets eliminated) or even (the last player gets eliminated)."
   ]
  },
  {
   "cell_type": "code",
   "execution_count": 3,
   "metadata": {},
   "outputs": [],
   "source": [
    "def whiteElephantFast(n):\n",
    "    # inizialize player list\n",
    "    playing = [i for i in range(1,n+1)]\n",
    "    while len(playing)>1:\n",
    "        if len(playing)%2==1: # odd number of players\n",
    "            # remove \"even\" players\n",
    "            playing = playing[0::2]\n",
    "            # last player gets gifts from first player, so pop first player\n",
    "            playing.pop(0)\n",
    "            # I'm left with a even number of players\n",
    "        if len(playing)%2==0: # even number of players\n",
    "            # remove \"even\" players, including last\n",
    "            playing = playing[0::2]\n",
    "    return playing[0]"
   ]
  },
  {
   "cell_type": "code",
   "execution_count": 4,
   "metadata": {},
   "outputs": [
    {
     "name": "stdout",
     "output_type": "stream",
     "text": [
      "1834471\n"
     ]
    }
   ],
   "source": [
    "print(whiteElephantFast(3014387))"
   ]
  },
  {
   "cell_type": "markdown",
   "metadata": {},
   "source": [
    "## Part 2"
   ]
  },
  {
   "cell_type": "code",
   "execution_count": 5,
   "metadata": {},
   "outputs": [],
   "source": [
    "def whiteElephant2List(n):\n",
    "    circle = [i for i in range(1,n+1)]\n",
    "    while len(circle)>1:\n",
    "        circle.pop(len(circle)//2)      # remove elf on the other side of the circle\n",
    "        circle = circle[1:]+circle[0:1] # rotate circle (elf that just played goes to the end)\n",
    "    return circle[0]"
   ]
  },
  {
   "cell_type": "code",
   "execution_count": 6,
   "metadata": {},
   "outputs": [
    {
     "data": {
      "text/plain": [
       "2"
      ]
     },
     "execution_count": 6,
     "metadata": {},
     "output_type": "execute_result"
    }
   ],
   "source": [
    "whiteElephant2List(5)"
   ]
  },
  {
   "cell_type": "markdown",
   "metadata": {},
   "source": [
    "### Looking for patterns...\n",
    "\n",
    "Brute force solution does not look promising for full input, especially with my poor-man list-based  implementation! I'll instead look for patterns..."
   ]
  },
  {
   "cell_type": "code",
   "execution_count": 7,
   "metadata": {},
   "outputs": [
    {
     "name": "stdout",
     "output_type": "stream",
     "text": [
      "1 0\n",
      "3 0\n",
      "9 0\n",
      "27 0\n",
      "81 0\n",
      "243 0\n",
      "729 0\n"
     ]
    }
   ],
   "source": [
    "for n in range(1,1000):\n",
    "    if n-whiteElephant2List(n)==0:\n",
    "        print(n,n-whiteElephant2List(n))"
   ]
  },
  {
   "cell_type": "code",
   "execution_count": 11,
   "metadata": {},
   "outputs": [
    {
     "name": "stdout",
     "output_type": "stream",
     "text": [
      "9 9\n",
      "10 1\n",
      "11 2\n",
      "12 3\n",
      "13 4\n",
      "14 5\n",
      "15 6\n",
      "16 7\n",
      "17 8\n",
      "18 9\n",
      "19 11\n",
      "20 13\n",
      "21 15\n",
      "22 17\n",
      "23 19\n",
      "24 21\n",
      "25 23\n",
      "26 25\n",
      "27 27\n",
      "28 1\n",
      "29 2\n",
      "30 3\n",
      "31 4\n",
      "32 5\n",
      "33 6\n",
      "34 7\n",
      "35 8\n",
      "36 9\n",
      "37 10\n",
      "38 11\n",
      "39 12\n",
      "40 13\n",
      "41 14\n",
      "42 15\n",
      "43 16\n",
      "44 17\n",
      "45 18\n",
      "46 19\n",
      "47 20\n",
      "48 21\n",
      "49 22\n",
      "50 23\n",
      "51 24\n",
      "52 25\n",
      "53 26\n",
      "54 27\n",
      "55 29\n",
      "56 31\n",
      "57 33\n",
      "58 35\n",
      "59 37\n",
      "60 39\n",
      "61 41\n",
      "62 43\n",
      "63 45\n",
      "64 47\n",
      "65 49\n",
      "66 51\n",
      "67 53\n",
      "68 55\n",
      "69 57\n",
      "70 59\n",
      "71 61\n",
      "72 63\n",
      "73 65\n",
      "74 67\n",
      "75 69\n",
      "76 71\n",
      "77 73\n",
      "78 75\n",
      "79 77\n",
      "80 79\n",
      "81 81\n"
     ]
    }
   ],
   "source": [
    "for n in range(9,82):\n",
    "    print(n,whiteElephant2List(n))"
   ]
  },
  {
   "cell_type": "markdown",
   "metadata": {},
   "source": [
    "## Patterns!\n",
    "\n",
    "These are the patterns I found:\n",
    "\n",
    "* Winner is last number n for n=3^m\n",
    "* Winner is k for n=3^m+k for k=(1,2,...,3^(m+1))\n",
    "* Winner is k for n=3^m+2k for k=(3^(m+1)+2,3^(m+1)+4,...,3^(m+2))\n",
    "\n",
    "Implementing and checking them below..."
   ]
  },
  {
   "cell_type": "code",
   "execution_count": 12,
   "metadata": {},
   "outputs": [
    {
     "name": "stdout",
     "output_type": "stream",
     "text": [
      "9 9 9 True\n",
      "10 1 1 True\n",
      "11 2 2 True\n",
      "12 3 3 True\n",
      "13 4 4 True\n",
      "14 5 5 True\n",
      "15 6 6 True\n",
      "16 7 7 True\n",
      "17 8 8 True\n",
      "18 9 9 True\n",
      "19 11 11 True\n",
      "20 13 13 True\n",
      "21 15 15 True\n",
      "22 17 17 True\n",
      "23 19 19 True\n",
      "24 21 21 True\n",
      "25 23 23 True\n",
      "26 25 25 True\n",
      "27 27 27 True\n",
      "28 1 1 True\n",
      "29 2 2 True\n",
      "30 3 3 True\n",
      "31 4 4 True\n",
      "32 5 5 True\n",
      "33 6 6 True\n",
      "34 7 7 True\n",
      "35 8 8 True\n",
      "36 9 9 True\n",
      "37 10 10 True\n",
      "38 11 11 True\n",
      "39 12 12 True\n",
      "40 13 13 True\n",
      "41 14 14 True\n",
      "42 15 15 True\n",
      "43 16 16 True\n",
      "44 17 17 True\n",
      "45 18 18 True\n",
      "46 19 19 True\n",
      "47 20 20 True\n",
      "48 21 21 True\n",
      "49 22 22 True\n",
      "50 23 23 True\n",
      "51 24 24 True\n",
      "52 25 25 True\n",
      "53 26 26 True\n",
      "54 27 27 True\n",
      "55 29 29 True\n",
      "56 31 31 True\n",
      "57 33 33 True\n",
      "58 35 35 True\n",
      "59 37 37 True\n",
      "60 39 39 True\n",
      "61 41 41 True\n",
      "62 43 43 True\n",
      "63 45 45 True\n",
      "64 47 47 True\n",
      "65 49 49 True\n",
      "66 51 51 True\n",
      "67 53 53 True\n",
      "68 55 55 True\n",
      "69 57 57 True\n",
      "70 59 59 True\n",
      "71 61 61 True\n",
      "72 63 63 True\n",
      "73 65 65 True\n",
      "74 67 67 True\n",
      "75 69 69 True\n",
      "76 71 71 True\n",
      "77 73 73 True\n",
      "78 75 75 True\n",
      "79 77 77 True\n",
      "80 79 79 True\n",
      "81 81 81 True\n"
     ]
    }
   ],
   "source": [
    "def isPowerOfThree(n):\n",
    "    # 1162261467 = 3^19\n",
    "    return 1162261467 % n == 0; \n",
    "\n",
    "solution = 0\n",
    "counter = 0\n",
    "for n in range(9,82):\n",
    "    if isPowerOfThree(n):\n",
    "        solution = n\n",
    "        power3 = n\n",
    "        counter = 1\n",
    "    else:\n",
    "        if counter <= power3:\n",
    "            solution = counter\n",
    "            counter += 1\n",
    "        else:\n",
    "            solution = counter+1\n",
    "            counter += 2\n",
    "    print(n,whiteElephant2List(n),solution,whiteElephant2List(n)==solution)"
   ]
  },
  {
   "cell_type": "markdown",
   "metadata": {},
   "source": [
    "### Part 2 iterative \"pattern\" solution"
   ]
  },
  {
   "cell_type": "code",
   "execution_count": 13,
   "metadata": {},
   "outputs": [],
   "source": [
    "def isPowerOfThree(n):\n",
    "    return 1162261467 % n == 0; \n",
    "\n",
    "def whiteElephant2Fast(N):\n",
    "    # find closer power of 3 smaller then n\n",
    "    for m in range(1,19):\n",
    "        if 3**m <= N < 3**(m+1):\n",
    "            break\n",
    "    solution = 0\n",
    "    counter = 0\n",
    "    # find solution iterating on patterns!\n",
    "    for n in range(3**m,N+1):\n",
    "        if isPowerOfThree(n):\n",
    "            solution = n\n",
    "            power3 = n\n",
    "            counter = 1\n",
    "        else:\n",
    "            if counter <= power3:\n",
    "                solution = counter\n",
    "                counter += 1\n",
    "            else:\n",
    "                solution = counter+1\n",
    "                counter += 2\n",
    "    return solution"
   ]
  },
  {
   "cell_type": "code",
   "execution_count": 14,
   "metadata": {},
   "outputs": [
    {
     "data": {
      "text/plain": [
       "1420064"
      ]
     },
     "execution_count": 14,
     "metadata": {},
     "output_type": "execute_result"
    }
   ],
   "source": [
    "whiteElephant2Fast(3014387)"
   ]
  },
  {
   "cell_type": "markdown",
   "metadata": {},
   "source": [
    "### Part 2 mathematical \"pattern\" solution"
   ]
  },
  {
   "cell_type": "code",
   "execution_count": 15,
   "metadata": {},
   "outputs": [],
   "source": [
    "def whiteElephant2Faster(N):\n",
    "    for m in range(1,19):\n",
    "        if 3**m <= N < 3**(m+1):\n",
    "            break\n",
    "    if N-3**m==0:\n",
    "        return N\n",
    "    if N-3**m < 3**m:\n",
    "        return N-3**m \n",
    "    else:\n",
    "        return 2*(N-3**m)-3**m"
   ]
  },
  {
   "cell_type": "code",
   "execution_count": 16,
   "metadata": {},
   "outputs": [
    {
     "data": {
      "text/plain": [
       "1420064"
      ]
     },
     "execution_count": 16,
     "metadata": {},
     "output_type": "execute_result"
    }
   ],
   "source": [
    "whiteElephant2Faster(3014387)"
   ]
  },
  {
   "cell_type": "code",
   "execution_count": null,
   "metadata": {},
   "outputs": [],
   "source": []
  }
 ],
 "metadata": {
  "kernelspec": {
   "display_name": "Python 3",
   "language": "python",
   "name": "python3"
  },
  "language_info": {
   "codemirror_mode": {
    "name": "ipython",
    "version": 3
   },
   "file_extension": ".py",
   "mimetype": "text/x-python",
   "name": "python",
   "nbconvert_exporter": "python",
   "pygments_lexer": "ipython3",
   "version": "3.9.0"
  }
 },
 "nbformat": 4,
 "nbformat_minor": 4
}
