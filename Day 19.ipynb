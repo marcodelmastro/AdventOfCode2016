{
 "cells": [
  {
   "cell_type": "markdown",
   "metadata": {},
   "source": [
    "# Day 19: An Elephant Named Joseph\n",
    "\n",
    "https://adventofcode.com/2016/day/19\n",
    "\n",
    "## Part 1\n",
    "\n",
    "### First attempt\n",
    "\n",
    "I initially coded an overcomplicate solution saving a dictionary of elf neighbours, assuming this was a \"linked list\" problem. The solution works, but the constant updating and searching makes it impractical for the full solution..."
   ]
  },
  {
   "cell_type": "code",
   "execution_count": 467,
   "metadata": {},
   "outputs": [],
   "source": [
    "def whiteElephants(n):\n",
    "    \n",
    "    # list of players\n",
    "    playing = [i for i in range(1,n+1)]\n",
    "\n",
    "    # table of neighbours\n",
    "    neig = {}\n",
    "    for i in range(1,n):\n",
    "        neig[i] = i+1\n",
    "    neig[n] = 1\n",
    "\n",
    "    while True:\n",
    "        \n",
    "        for elf in playing:\n",
    "            # get gifts from neighbour\n",
    "            ne = neig[elf]\n",
    "            # update neighbour table should be enough\n",
    "            neig[elf] = neig[ne]\n",
    "            # remove neighbour elf with no gifts from playing list\n",
    "            playing.pop(playing.index(ne))\n",
    "\n",
    "            # check remaining players, stop if only one left\n",
    "            if len(playing)%10000==0:\n",
    "                print(len(playing), \"remaining players...\")\n",
    "            if len(playing)==1:\n",
    "                print(\"Winner is Elf\",playing[0])\n",
    "                return playing[0]"
   ]
  },
  {
   "cell_type": "code",
   "execution_count": 468,
   "metadata": {},
   "outputs": [
    {
     "name": "stdout",
     "output_type": "stream",
     "text": [
      "Winner is Elf 3\n"
     ]
    }
   ],
   "source": [
    "w = whiteElephants(5)"
   ]
  },
  {
   "cell_type": "code",
   "execution_count": 469,
   "metadata": {},
   "outputs": [
    {
     "name": "stdout",
     "output_type": "stream",
     "text": [
      "Winner is Elf 1933\n",
      "Time elapsed = 0 s\n"
     ]
    }
   ],
   "source": [
    "from timeit import default_timer as timer\n",
    "start = timer()\n",
    "\n",
    "#whiteElephants(3014387)\n",
    "whiteElephants(3014)\n",
    "\n",
    "stop = timer()\n",
    "print(\"Time elapsed =\",int(stop-start),\"s\")"
   ]
  },
  {
   "cell_type": "markdown",
   "metadata": {},
   "source": [
    "## Part 1 \n",
    "\n",
    "### A better idea!\n",
    "\n",
    "By observing hoh the list of playing elfs evolves, I realised I can simply pop elements from it according to a simple algorithm with slightly different behavior according to whether the lenght of the list is odd (the last player takes the gift of the first, that gets eliminated) or even (the last player gets eliminated)."
   ]
  },
  {
   "cell_type": "code",
   "execution_count": 41,
   "metadata": {},
   "outputs": [],
   "source": [
    "def whiteElephantFast(n):\n",
    "    # inizialize player list\n",
    "    playing = [i for i in range(1,n+1)]\n",
    "    while len(playing)>1:\n",
    "        if len(playing)%2==1: # odd number of players\n",
    "            # remove \"even\" players\n",
    "            playing = playing[0::2]\n",
    "            # last player gets gifts from first player, so pop first player\n",
    "            playing.pop(0)\n",
    "            # I'm left with a even number of players\n",
    "        if len(playing)%2==0: # even number of players\n",
    "            # remove \"even\" players, including last\n",
    "            playing = playing[0::2]\n",
    "    return playing[0]"
   ]
  },
  {
   "cell_type": "code",
   "execution_count": 42,
   "metadata": {},
   "outputs": [
    {
     "data": {
      "text/plain": [
       "1834471"
      ]
     },
     "execution_count": 42,
     "metadata": {},
     "output_type": "execute_result"
    }
   ],
   "source": [
    "whiteElephantFast(3014387)"
   ]
  },
  {
   "cell_type": "markdown",
   "metadata": {},
   "source": [
    "## Part 2\n",
    "\n",
    "Again, brute force does not seem to be appropriate, at least not with a simple list as data structure... :-("
   ]
  },
  {
   "cell_type": "code",
   "execution_count": 472,
   "metadata": {},
   "outputs": [],
   "source": [
    "def whiteElephant2(n, verbose=False):\n",
    "    playing = [i for i in range(1,n+1)]\n",
    "    if verbose: \n",
    "        print(playing)\n",
    "    while len(playing)>1:\n",
    "        for e in playing:\n",
    "            i = playing.index(e)\n",
    "            l = len(playing)\n",
    "            g = (i+l//2)%l\n",
    "            playing.pop(g)\n",
    "            if verbose: \n",
    "                print(playing)\n",
    "            if len(playing)%10000==0:\n",
    "                print(len(playing), \"remaining players...\")\n",
    "    return playing[0]"
   ]
  },
  {
   "cell_type": "code",
   "execution_count": 473,
   "metadata": {
    "scrolled": true
   },
   "outputs": [
    {
     "name": "stdout",
     "output_type": "stream",
     "text": [
      "[1, 2, 3, 4, 5]\n",
      "[1, 2, 4, 5]\n",
      "[1, 2, 4]\n",
      "[2, 4]\n",
      "[2]\n"
     ]
    },
    {
     "data": {
      "text/plain": [
       "2"
      ]
     },
     "execution_count": 473,
     "metadata": {},
     "output_type": "execute_result"
    }
   ],
   "source": [
    "whiteElephant2(5,True)"
   ]
  },
  {
   "cell_type": "code",
   "execution_count": null,
   "metadata": {},
   "outputs": [],
   "source": []
  }
 ],
 "metadata": {
  "kernelspec": {
   "display_name": "Python 3",
   "language": "python",
   "name": "python3"
  },
  "language_info": {
   "codemirror_mode": {
    "name": "ipython",
    "version": 3
   },
   "file_extension": ".py",
   "mimetype": "text/x-python",
   "name": "python",
   "nbconvert_exporter": "python",
   "pygments_lexer": "ipython3",
   "version": "3.9.0"
  }
 },
 "nbformat": 4,
 "nbformat_minor": 4
}
