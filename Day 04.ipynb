{
 "cells": [
  {
   "cell_type": "markdown",
   "metadata": {},
   "source": [
    "# Day 4: Security Through Obscurity\n",
    "\n",
    "https://adventofcode.com/2016/day/4"
   ]
  },
  {
   "cell_type": "code",
   "execution_count": 60,
   "metadata": {},
   "outputs": [],
   "source": [
    "from collections import Counter, defaultdict\n",
    "\n",
    "def checksum(name):\n",
    "    freq = defaultdict(lambda: [])\n",
    "    count = Counter(name)\n",
    "    for c,n in count.most_common():\n",
    "        freq[n].append(c)\n",
    "    check = \"\"\n",
    "    for n in freq.keys():\n",
    "        for c in sorted(freq[n]):\n",
    "            check+=c\n",
    "    return check[0:5]"
   ]
  },
  {
   "cell_type": "code",
   "execution_count": 61,
   "metadata": {},
   "outputs": [
    {
     "data": {
      "text/plain": [
       "('notarealroom', 404, 'oarel')"
      ]
     },
     "execution_count": 61,
     "metadata": {},
     "output_type": "execute_result"
    }
   ],
   "source": [
    "#r = \"aaaaa-bbb-z-y-x-123[abxyz]\"\n",
    "r = \"not-a-real-room-404[oarel]\"\n",
    "\n",
    "cs = r[-6:-1]\n",
    "sid = int(r[-10:-7])\n",
    "name = r[:-10].replace(\"-\",\"\")\n",
    "name, sid, cs"
   ]
  },
  {
   "cell_type": "code",
   "execution_count": 62,
   "metadata": {},
   "outputs": [
    {
     "name": "stdout",
     "output_type": "stream",
     "text": [
      "173787\n"
     ]
    }
   ],
   "source": [
    "s = 0\n",
    "with open('data/input04.txt') as f:\n",
    "    for r in f.readlines():\n",
    "        r = r.strip('\\n')\n",
    "        cs = r[-6:-1]\n",
    "        sid = int(r[-10:-7])\n",
    "        name = r[:-10].replace(\"-\",\"\")\n",
    "        if checksum(name)==cs:\n",
    "            s+=sid     \n",
    "print(s)"
   ]
  },
  {
   "cell_type": "code",
   "execution_count": 63,
   "metadata": {},
   "outputs": [],
   "source": [
    "from string import ascii_lowercase as ALPHABET\n",
    "\n",
    "def shift(message, offset):\n",
    "    trans = str.maketrans(ALPHABET, ALPHABET[offset%26:] + ALPHABET[:offset%26])\n",
    "    return message.lower().translate(trans)\n",
    "\n",
    "# room where North Pole objects are stored?\n",
    "\n",
    "rooms = []\n",
    "with open('data/input04.txt') as f:\n",
    "    for r in f.readlines():\n",
    "        r = r.strip('\\n')\n",
    "        cs = r[-6:-1]\n",
    "        sid = int(r[-10:-7])\n",
    "        name = r[:-10].replace(\"-\",\" \")\n",
    "        #print(shift(name,sid),sid)\n",
    "        rooms.append([shift(name,sid),sid])"
   ]
  },
  {
   "cell_type": "code",
   "execution_count": 64,
   "metadata": {},
   "outputs": [
    {
     "name": "stdout",
     "output_type": "stream",
     "text": [
      "northpole object storage  548\n"
     ]
    }
   ],
   "source": [
    "remove = [ 'candy','grass','dye','rabbit','chocolate','egg','jellybean','scavenger hunt','bunny','flower','basket' ]\n",
    "\n",
    "for r,d in rooms:\n",
    "    skip = False\n",
    "    for o in remove:\n",
    "        if o in r:\n",
    "            skip = True\n",
    "            break\n",
    "    if skip:\n",
    "        continue\n",
    "    else:\n",
    "        print(r,d)"
   ]
  },
  {
   "cell_type": "code",
   "execution_count": null,
   "metadata": {},
   "outputs": [],
   "source": []
  }
 ],
 "metadata": {
  "kernelspec": {
   "display_name": "Python 3",
   "language": "python",
   "name": "python3"
  },
  "language_info": {
   "codemirror_mode": {
    "name": "ipython",
    "version": 3
   },
   "file_extension": ".py",
   "mimetype": "text/x-python",
   "name": "python",
   "nbconvert_exporter": "python",
   "pygments_lexer": "ipython3",
   "version": "3.9.0"
  }
 },
 "nbformat": 4,
 "nbformat_minor": 4
}
