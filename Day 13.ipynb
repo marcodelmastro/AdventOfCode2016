{
 "cells": [
  {
   "cell_type": "markdown",
   "metadata": {},
   "source": [
    "## Day 13: A Maze of Twisty Little Cubicles\n",
    "\n",
    "https://adventofcode.com/2016/day/13"
   ]
  },
  {
   "cell_type": "code",
   "execution_count": 86,
   "metadata": {},
   "outputs": [],
   "source": [
    "WALL = 1\n",
    "EMPTY = 0\n",
    "\n",
    "def isWall(c,odfn=10):\n",
    "    x,y = c\n",
    "    v = x*x + 3*x + 2*x*y + y + y*y + odfn\n",
    "    if (bin(v)[2:].count(\"1\"))%2==0:\n",
    "        return EMPTY\n",
    "    else:\n",
    "        return WALL\n",
    "    \n",
    "import numpy as np\n",
    "\n",
    "def makeMaze(size,odfn):\n",
    "    maze = np.zeros((size,size),dtype=int)\n",
    "    for x in range(size):\n",
    "        for y in range(size):\n",
    "            c = (x,y)\n",
    "            maze[y,x] = isWall(c,odfn)\n",
    "    return maze"
   ]
  },
  {
   "cell_type": "code",
   "execution_count": 87,
   "metadata": {},
   "outputs": [
    {
     "data": {
      "text/plain": [
       "<matplotlib.image.AxesImage at 0x1612abfa0>"
      ]
     },
     "execution_count": 87,
     "metadata": {},
     "output_type": "execute_result"
    },
    {
     "data": {
      "image/png": "[encoded data removed]",
      "text/plain": [
       "<Figure size 432x288 with 1 Axes>"
      ]
     },
     "metadata": {
      "needs_background": "light"
     },
     "output_type": "display_data"
    }
   ],
   "source": [
    "import matplotlib.pyplot as plt\n",
    "\n",
    "maze = makeMaze(size=10,odfn=10)\n",
    "\n",
    "plt.imshow(maze,cmap=\"binary\")"
   ]
  },
  {
   "cell_type": "code",
   "execution_count": 88,
   "metadata": {},
   "outputs": [],
   "source": [
    "import numpy as np\n",
    "from queue import Queue\n",
    "\n",
    "WALL    = 1\n",
    "VISITED = 3\n",
    "\n",
    "## Coordinates for a given position are encoded as (x,y) tuple\n",
    "def getAdjacent(n):\n",
    "    '''returns list of adiacent cells'''\n",
    "    x,y = n\n",
    "    return [(x-1,y), # W\n",
    "            (x,y-1), # N\n",
    "            (x+1,y), # E\n",
    "            (x,y+1)] # S\n",
    "\n",
    "def BFS(start, end, theMaze):\n",
    "    '''Find shorter path between two position in the maze using BFS algorithm'''\n",
    "    maze = np.copy(theMaze)\n",
    "    ymax,xmax = maze.shape\n",
    "    queue = Queue()\n",
    "    queue.put([start]) # wrap the starting cell tuple in a list\n",
    "    lenmax = 1\n",
    "    while not queue.empty():\n",
    "        path = queue.get() # get a path form the paths' queur\n",
    "        c = path[-1] # take last step of current path\n",
    "        if c == end:\n",
    "            return path\n",
    "        for a in getAdjacent(c): # explore adjacent cells\n",
    "            x,y = a\n",
    "            # protection against maze boundaries\n",
    "            if x<0 or x>=xmax or y<0 or y>=ymax:\n",
    "                continue\n",
    "            if maze[y][x] == WALL or maze[y][x] == VISITED: # if a dead end is reached (all WALL or VISITED) path gets dequeued\n",
    "                continue\n",
    "            else:\n",
    "                maze[y][x] = VISITED\n",
    "                new_path = list(path)\n",
    "                new_path.append(a)\n",
    "                queue.put(new_path) # store back the path in the queue with the new step\n",
    "    #print(\"END position not reachable\")\n",
    "    return []"
   ]
  },
  {
   "cell_type": "code",
   "execution_count": 89,
   "metadata": {},
   "outputs": [
    {
     "name": "stdout",
     "output_type": "stream",
     "text": [
      "11\n"
     ]
    }
   ],
   "source": [
    "start = (1,1)\n",
    "end = (7,4)\n",
    "path = BFS(start,end,maze)\n",
    "print(len(path)-1)"
   ]
  },
  {
   "cell_type": "code",
   "execution_count": 90,
   "metadata": {},
   "outputs": [
    {
     "data": {
      "text/plain": [
       "<matplotlib.image.AxesImage at 0x161304c10>"
      ]
     },
     "execution_count": 90,
     "metadata": {},
     "output_type": "execute_result"
    },
    {
     "data": {
      "image/png": "[encoded data removed]",
      "text/plain": [
       "<Figure size 432x288 with 1 Axes>"
      ]
     },
     "metadata": {
      "needs_background": "light"
     },
     "output_type": "display_data"
    }
   ],
   "source": [
    "for x,y in path:\n",
    "    maze[y,x] = 2\n",
    "plt.imshow(maze)"
   ]
  },
  {
   "cell_type": "code",
   "execution_count": 94,
   "metadata": {},
   "outputs": [
    {
     "data": {
      "text/plain": [
       "<matplotlib.image.AxesImage at 0x1613fc220>"
      ]
     },
     "execution_count": 94,
     "metadata": {},
     "output_type": "execute_result"
    },
    {
     "data": {
      "image/png": "[encoded data removed]",
      "text/plain": [
       "<Figure size 600x600 with 1 Axes>"
      ]
     },
     "metadata": {
      "needs_background": "light"
     },
     "output_type": "display_data"
    }
   ],
   "source": [
    "odfn = 1352\n",
    "size = 50\n",
    "\n",
    "maze = makeMaze(size,odfn)\n",
    "\n",
    "fig = plt.figure(figsize=(6, 6), dpi=100)\n",
    "plt.imshow(maze,cmap=\"binary\")"
   ]
  },
  {
   "cell_type": "code",
   "execution_count": 95,
   "metadata": {},
   "outputs": [
    {
     "name": "stdout",
     "output_type": "stream",
     "text": [
      "90\n"
     ]
    }
   ],
   "source": [
    "start = (1,1)\n",
    "end = (31,39)\n",
    "path = BFS(start,end,maze)\n",
    "print(len(path)-1)"
   ]
  },
  {
   "cell_type": "code",
   "execution_count": 96,
   "metadata": {},
   "outputs": [
    {
     "data": {
      "text/plain": [
       "<matplotlib.image.AxesImage at 0x161444ac0>"
      ]
     },
     "execution_count": 96,
     "metadata": {},
     "output_type": "execute_result"
    },
    {
     "data": {
      "image/png": "[encoded data removed]",
      "text/plain": [
       "<Figure size 600x600 with 1 Axes>"
      ]
     },
     "metadata": {
      "needs_background": "light"
     },
     "output_type": "display_data"
    }
   ],
   "source": [
    "for x,y in path:\n",
    "    maze[y,x] = 2\n",
    "fig = plt.figure(figsize=(6, 6), dpi=100)\n",
    "plt.imshow(maze)"
   ]
  },
  {
   "cell_type": "code",
   "execution_count": 97,
   "metadata": {},
   "outputs": [
    {
     "name": "stdout",
     "output_type": "stream",
     "text": [
      "135\n"
     ]
    }
   ],
   "source": [
    "odfn = 1352\n",
    "size = 30\n",
    "\n",
    "maze = makeMaze(size,odfn)\n",
    "\n",
    "reachable = []\n",
    "for x in range(size):\n",
    "    for y in range(size):\n",
    "        start = (1,1)\n",
    "        end = (x,y)\n",
    "        path = BFS(start,end,maze)\n",
    "        if len(path)==0: # not reachables\n",
    "            continue\n",
    "        if len(path)-1 <=50:\n",
    "            reachable.append(end)\n",
    "print(len(reachable))"
   ]
  },
  {
   "cell_type": "code",
   "execution_count": 98,
   "metadata": {},
   "outputs": [
    {
     "data": {
      "text/plain": [
       "<matplotlib.image.AxesImage at 0x161494f10>"
      ]
     },
     "execution_count": 98,
     "metadata": {},
     "output_type": "execute_result"
    },
    {
     "data": {
      "image/png": "[encoded data removed]",
      "text/plain": [
       "<Figure size 600x600 with 1 Axes>"
      ]
     },
     "metadata": {
      "needs_background": "light"
     },
     "output_type": "display_data"
    }
   ],
   "source": [
    "for x,y in reachable:\n",
    "    maze[y,x] = 2\n",
    "fig = plt.figure(figsize=(6, 6), dpi=100)\n",
    "plt.imshow(maze)"
   ]
  },
  {
   "cell_type": "code",
   "execution_count": null,
   "metadata": {},
   "outputs": [],
   "source": []
  }
 ],
 "metadata": {
  "kernelspec": {
   "display_name": "Python 3",
   "language": "python",
   "name": "python3"
  },
  "language_info": {
   "codemirror_mode": {
    "name": "ipython",
    "version": 3
   },
   "file_extension": ".py",
   "mimetype": "text/x-python",
   "name": "python",
   "nbconvert_exporter": "python",
   "pygments_lexer": "ipython3",
   "version": "3.9.0"
  }
 },
 "nbformat": 4,
 "nbformat_minor": 4
}
