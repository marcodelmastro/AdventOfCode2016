{
 "cells": [
  {
   "cell_type": "markdown",
   "metadata": {},
   "source": [
    "# Day 1: No Time for a Taxicab\n",
    "\n",
    "https://adventofcode.com/2016/day/1"
   ]
  },
  {
   "cell_type": "markdown",
   "metadata": {},
   "source": [
    "## Part 1\n",
    "\n",
    "Using complex number to represent location and direction. Change of direction is obtained with simple complex multiplication. "
   ]
  },
  {
   "cell_type": "code",
   "execution_count": 16,
   "metadata": {},
   "outputs": [],
   "source": [
    "def getBlocks(steps):\n",
    "    d = 0+1j\n",
    "    p = 0\n",
    "    R = -1j\n",
    "    L = +1j \n",
    "    for s in steps:\n",
    "        if s[0]==\"R\":\n",
    "            d*=R\n",
    "        else:\n",
    "            d*=L\n",
    "        p += int(s[1:])*d\n",
    "    return int(abs(p.real + p.imag))"
   ]
  },
  {
   "cell_type": "code",
   "execution_count": 17,
   "metadata": {},
   "outputs": [
    {
     "name": "stdout",
     "output_type": "stream",
     "text": [
      "5\n",
      "2\n",
      "12\n"
     ]
    }
   ],
   "source": [
    "print(getBlocks([\"R2\",\"L3\"]))\n",
    "print(getBlocks([\"R2\",\"R2\",\"R2\"]))\n",
    "print(getBlocks([\"R5\",\"L5\",\"R5\",\"R3\"]))"
   ]
  },
  {
   "cell_type": "code",
   "execution_count": 44,
   "metadata": {},
   "outputs": [
    {
     "name": "stdout",
     "output_type": "stream",
     "text": [
      "246\n"
     ]
    }
   ],
   "source": [
    "f = open('./data/input01.txt')\n",
    "steps = f.read().strip(\"\\n\").split(\", \")\n",
    "print(getBlocks(steps))"
   ]
  },
  {
   "cell_type": "markdown",
   "metadata": {},
   "source": [
    "## Part 2"
   ]
  },
  {
   "cell_type": "code",
   "execution_count": 46,
   "metadata": {},
   "outputs": [],
   "source": [
    "def getFirstCrossingDistance(steps):\n",
    "    d = 0+1j\n",
    "    p = 0 \n",
    "    path = [ p ] \n",
    "    R = -1j\n",
    "    L = +1j \n",
    "    for s in steps:\n",
    "        if s[0]==\"R\":\n",
    "            d*=R\n",
    "        else:\n",
    "            d*=L\n",
    "        for _ in range(int(s[1:])):\n",
    "            p += d\n",
    "            if p in path:\n",
    "                return int(abs(p.real + p.imag))\n",
    "            path.append(p)\n",
    "    return 0"
   ]
  },
  {
   "cell_type": "code",
   "execution_count": 47,
   "metadata": {},
   "outputs": [
    {
     "name": "stdout",
     "output_type": "stream",
     "text": [
      "4\n"
     ]
    }
   ],
   "source": [
    "print(getFirstCrossingDistance(['R8', 'R4', 'R4', 'R8']))"
   ]
  },
  {
   "cell_type": "code",
   "execution_count": 48,
   "metadata": {},
   "outputs": [
    {
     "name": "stdout",
     "output_type": "stream",
     "text": [
      "124\n"
     ]
    }
   ],
   "source": [
    "print(getFirstCrossingDistance(steps))"
   ]
  },
  {
   "cell_type": "code",
   "execution_count": null,
   "metadata": {},
   "outputs": [],
   "source": []
  }
 ],
 "metadata": {
  "kernelspec": {
   "display_name": "Python 3",
   "language": "python",
   "name": "python3"
  },
  "language_info": {
   "codemirror_mode": {
    "name": "ipython",
    "version": 3
   },
   "file_extension": ".py",
   "mimetype": "text/x-python",
   "name": "python",
   "nbconvert_exporter": "python",
   "pygments_lexer": "ipython3",
   "version": "3.9.0"
  }
 },
 "nbformat": 4,
 "nbformat_minor": 4
}
