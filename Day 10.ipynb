{
 "cells": [
  {
   "cell_type": "markdown",
   "metadata": {},
   "source": [
    "# Day 10: Balance Bots\n",
    "\n",
    "https://adventofcode.com/2016/day/10"
   ]
  },
  {
   "cell_type": "code",
   "execution_count": 72,
   "metadata": {},
   "outputs": [],
   "source": [
    "from collections import defaultdict\n",
    "\n",
    "def executeInstructions(instr):\n",
    "    \n",
    "    out = defaultdict(lambda: 0)\n",
    "    bot = defaultdict(lambda: [])\n",
    "\n",
    "    # Initialise values to bots\n",
    "    for ii in instr:\n",
    "        i = ii.split(\" \")\n",
    "        if i[0]==\"value\":\n",
    "            bot[int(i[5])].append(int(i[1]))\n",
    "\n",
    "    # Execute instructions\n",
    "    executed = [] # Keep track of already executed instructions\n",
    "    while True:\n",
    "        exe = 0\n",
    "        for ii in instr:\n",
    "            if ii not in executed:\n",
    "                i = ii.split(\" \")\n",
    "                if i[0]==\"bot\":\n",
    "                    b = int(i[1])\n",
    "                    if len(bot[b])==2: # has two chips\n",
    "                        cmin = min(bot[b])\n",
    "                        cmax = max(bot[b])\n",
    "                        if cmin==17 and cmax==61:\n",
    "                            print(\"Bot 17-61 \\t:\",b)\n",
    "                            print(\"---\")\n",
    "                        if i[5]==\"bot\":\n",
    "                            bot[int(i[6])].append(cmin)\n",
    "                        else:\n",
    "                            out[int(i[6])] = cmin\n",
    "                        if i[10]==\"bot\":\n",
    "                            bot[int(i[11])].append(cmax)\n",
    "                        else:\n",
    "                            out[int(i[11])] = cmax\n",
    "                        bot[b] = []\n",
    "                        executed.append(ii)\n",
    "                        exe += 1\n",
    "        if exe==0: # Exausthed all instructions\n",
    "            break\n",
    "\n",
    "    for o in out.keys():\n",
    "        print(\"Output {} \\t: chip: {}\".format(o,out[o]))\n",
    "    print(\"---\")\n",
    "    print(\"Answer Part 2 \\t:\",out[0]*out[1]*out[2])"
   ]
  },
  {
   "cell_type": "code",
   "execution_count": 73,
   "metadata": {},
   "outputs": [
    {
     "name": "stdout",
     "output_type": "stream",
     "text": [
      "Output 1 \t: chip: 2\n",
      "Output 2 \t: chip: 3\n",
      "Output 0 \t: chip: 5\n",
      "---\n",
      "Answer Part 2 \t: 30\n"
     ]
    }
   ],
   "source": [
    "instr = [\n",
    "    'value 5 goes to bot 2',\n",
    "    'bot 2 gives low to bot 1 and high to bot 0',\n",
    "    'value 3 goes to bot 1',\n",
    "    'bot 1 gives low to output 1 and high to bot 0',\n",
    "    'bot 0 gives low to output 2 and high to output 0',\n",
    "    'value 2 goes to bot 2',\n",
    "]\n",
    "\n",
    "executeInstructions(instr)"
   ]
  },
  {
   "cell_type": "code",
   "execution_count": 74,
   "metadata": {},
   "outputs": [
    {
     "name": "stdout",
     "output_type": "stream",
     "text": [
      "Bot 17-61 \t: 147\n",
      "---\n",
      "Output 4 \t: chip: 2\n",
      "Output 12 \t: chip: 3\n",
      "Output 3 \t: chip: 5\n",
      "Output 11 \t: chip: 7\n",
      "Output 15 \t: chip: 11\n",
      "Output 16 \t: chip: 13\n",
      "Output 7 \t: chip: 17\n",
      "Output 10 \t: chip: 19\n",
      "Output 2 \t: chip: 23\n",
      "Output 14 \t: chip: 29\n",
      "Output 19 \t: chip: 31\n",
      "Output 18 \t: chip: 37\n",
      "Output 1 \t: chip: 41\n",
      "Output 6 \t: chip: 43\n",
      "Output 5 \t: chip: 47\n",
      "Output 8 \t: chip: 53\n",
      "Output 0 \t: chip: 59\n",
      "Output 9 \t: chip: 61\n",
      "Output 20 \t: chip: 67\n",
      "Output 17 \t: chip: 71\n",
      "Output 13 \t: chip: 73\n",
      "---\n",
      "Answer Part 2 \t: 55637\n"
     ]
    }
   ],
   "source": [
    "with open ('data/input10.txt') as f:\n",
    "    instr = [ i.strip(\"\\n\") for i in f.readlines() ]\n",
    "    \n",
    "executeInstructions(instr)"
   ]
  },
  {
   "cell_type": "code",
   "execution_count": null,
   "metadata": {},
   "outputs": [],
   "source": []
  }
 ],
 "metadata": {
  "kernelspec": {
   "display_name": "Python 3",
   "language": "python",
   "name": "python3"
  },
  "language_info": {
   "codemirror_mode": {
    "name": "ipython",
    "version": 3
   },
   "file_extension": ".py",
   "mimetype": "text/x-python",
   "name": "python",
   "nbconvert_exporter": "python",
   "pygments_lexer": "ipython3",
   "version": "3.9.0"
  }
 },
 "nbformat": 4,
 "nbformat_minor": 4
}
