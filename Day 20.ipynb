{
 "cells": [
  {
   "cell_type": "markdown",
   "metadata": {},
   "source": [
    "# Day 20 \n",
    "\n",
    "https://adventofcode.com/2016/day/20"
   ]
  },
  {
   "cell_type": "code",
   "execution_count": 62,
   "metadata": {},
   "outputs": [],
   "source": [
    "with open('data/input20.txt') as f:\n",
    "    intervals = [ [ int(i) for i in l.strip(\"\\n\").split(\"-\") ] for l in f.readlines()  ]"
   ]
  },
  {
   "cell_type": "code",
   "execution_count": 63,
   "metadata": {},
   "outputs": [
    {
     "name": "stdout",
     "output_type": "stream",
     "text": [
      "110 intervals with no gaps\n",
      "First available address: 22887907\n"
     ]
    }
   ],
   "source": [
    "# sort intervals\n",
    "intervals = sorted(intervals, key=lambda x : x[0])\n",
    "\n",
    "# merge overlapping and contigous intervals\n",
    "stack = []\n",
    "stack.append(intervals[0])\n",
    "for i in range(1,len(intervals)):\n",
    "    last_interval = stack[-1]\n",
    "    if last_interval[1] >= intervals[i][0] or last_interval[1] == intervals[i][0]-1:\n",
    "        last_interval[1] = max(intervals[i][1],last_interval[1])\n",
    "        stack.pop(len(stack)-1)\n",
    "        stack.append(last_interval)\n",
    "    else:  \n",
    "        stack.append(intervals[i])\n",
    "        \n",
    "print(\"{} intervals with no gaps\".format(len(stack)))\n",
    "print(\"First available address:\",stack[0][1]+1)"
   ]
  },
  {
   "cell_type": "code",
   "execution_count": 64,
   "metadata": {},
   "outputs": [
    {
     "name": "stdout",
     "output_type": "stream",
     "text": [
      "Allowed addresses: 109\n"
     ]
    }
   ],
   "source": [
    "itot = 4294967295 + 1 # inclusive interval!\n",
    "for i0,i1 in stack:\n",
    "    itot -= (i1-i0) + 1 # inclusive intervals!\n",
    "print(\"Allowed addresses:\",itot)"
   ]
  },
  {
   "cell_type": "code",
   "execution_count": null,
   "metadata": {},
   "outputs": [],
   "source": []
  }
 ],
 "metadata": {
  "kernelspec": {
   "display_name": "Python 3",
   "language": "python",
   "name": "python3"
  },
  "language_info": {
   "codemirror_mode": {
    "name": "ipython",
    "version": 3
   },
   "file_extension": ".py",
   "mimetype": "text/x-python",
   "name": "python",
   "nbconvert_exporter": "python",
   "pygments_lexer": "ipython3",
   "version": "3.9.0"
  }
 },
 "nbformat": 4,
 "nbformat_minor": 4
}
