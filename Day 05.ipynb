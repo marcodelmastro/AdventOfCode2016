{
 "cells": [
  {
   "cell_type": "markdown",
   "metadata": {},
   "source": [
    "# Day 5: How About a Nice Game of Chess?\n",
    "\n",
    "https://adventofcode.com/2016/day/5\n",
    "\n",
    "## Part 1"
   ]
  },
  {
   "cell_type": "code",
   "execution_count": 28,
   "metadata": {},
   "outputs": [],
   "source": [
    "import hashlib\n",
    "\n",
    "def getPassword(doorid,verbose=False):\n",
    "    # eight-character password\n",
    "    pwd = \"\"\n",
    "    c = 0\n",
    "    i = 0\n",
    "    while True:\n",
    "        h = doorid+str(i)\n",
    "        r = hashlib.md5(h.encode())\n",
    "        if r.hexdigest()[0:5] == \"00000\":\n",
    "            c+=1\n",
    "            if verbose: \n",
    "                print(c, i, r.hexdigest()[5])\n",
    "            pwd += str(r.hexdigest()[5])\n",
    "        if c==8:\n",
    "            return pwd\n",
    "        i+=1"
   ]
  },
  {
   "cell_type": "code",
   "execution_count": 29,
   "metadata": {},
   "outputs": [
    {
     "name": "stdout",
     "output_type": "stream",
     "text": [
      "1 3231929 1\n",
      "2 5017308 8\n",
      "3 5278568 f\n",
      "4 5357525 4\n",
      "5 5708769 7\n",
      "6 6082117 a\n",
      "7 8036669 3\n",
      "8 8605828 0\n",
      "18f47a30\n"
     ]
    }
   ],
   "source": [
    "print(getPassword(\"abc\",verbose=True))"
   ]
  },
  {
   "cell_type": "code",
   "execution_count": 30,
   "metadata": {},
   "outputs": [
    {
     "name": "stdout",
     "output_type": "stream",
     "text": [
      "801b56a7\n"
     ]
    }
   ],
   "source": [
    "print(getPassword(\"abbhdwsy\"))"
   ]
  },
  {
   "cell_type": "code",
   "execution_count": 50,
   "metadata": {},
   "outputs": [],
   "source": [
    "import hashlib\n",
    "\n",
    "def getPassword2(doorid,verbose=False):\n",
    "    pwd = 8*[\"_\"]\n",
    "    pos = [0,1,2,3,4,5,6,7]\n",
    "    fill = []\n",
    "    c = 0\n",
    "    i = 0\n",
    "    while True:\n",
    "        h = doorid+str(i)\n",
    "        r = hashlib.md5(h.encode())\n",
    "        if r.hexdigest()[0:5] == \"00000\":\n",
    "            p = r.hexdigest()[5]\n",
    "            try:\n",
    "                p=int(p)\n",
    "                if p in pos and p not in fill:\n",
    "                    fill.append(p)\n",
    "                    pwd[p] = r.hexdigest()[6]\n",
    "                    c+=1\n",
    "                    if verbose:\n",
    "                        print(c,p,pwd)\n",
    "            except:\n",
    "                pass\n",
    "        if c==8:\n",
    "            return \"\".join(pwd)\n",
    "        i+=1"
   ]
  },
  {
   "cell_type": "code",
   "execution_count": 51,
   "metadata": {},
   "outputs": [
    {
     "name": "stdout",
     "output_type": "stream",
     "text": [
      "1 1 ['_', '5', '_', '_', '_', '_', '_', '_']\n",
      "2 4 ['_', '5', '_', '_', 'e', '_', '_', '_']\n",
      "3 7 ['_', '5', '_', '_', 'e', '_', '_', '3']\n",
      "4 3 ['_', '5', '_', 'c', 'e', '_', '_', '3']\n",
      "5 0 ['0', '5', '_', 'c', 'e', '_', '_', '3']\n",
      "6 6 ['0', '5', '_', 'c', 'e', '_', 'e', '3']\n",
      "7 5 ['0', '5', '_', 'c', 'e', '8', 'e', '3']\n",
      "8 2 ['0', '5', 'a', 'c', 'e', '8', 'e', '3']\n",
      "05ace8e3\n"
     ]
    }
   ],
   "source": [
    "print(getPassword2(\"abc\",verbose=True)) # 05ace8e3"
   ]
  },
  {
   "cell_type": "code",
   "execution_count": 52,
   "metadata": {},
   "outputs": [
    {
     "name": "stdout",
     "output_type": "stream",
     "text": [
      "424a0197\n"
     ]
    }
   ],
   "source": [
    "print(getPassword2(\"abbhdwsy\"))"
   ]
  },
  {
   "cell_type": "code",
   "execution_count": null,
   "metadata": {},
   "outputs": [],
   "source": []
  }
 ],
 "metadata": {
  "kernelspec": {
   "display_name": "Python 3",
   "language": "python",
   "name": "python3"
  },
  "language_info": {
   "codemirror_mode": {
    "name": "ipython",
    "version": 3
   },
   "file_extension": ".py",
   "mimetype": "text/x-python",
   "name": "python",
   "nbconvert_exporter": "python",
   "pygments_lexer": "ipython3",
   "version": "3.9.0"
  }
 },
 "nbformat": 4,
 "nbformat_minor": 4
}
