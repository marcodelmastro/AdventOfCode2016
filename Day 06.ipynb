{
 "cells": [
  {
   "cell_type": "markdown",
   "metadata": {},
   "source": [
    "# Day 6: Signals and Noise\n",
    "\n",
    "https://adventofcode.com/2016/day/6"
   ]
  },
  {
   "cell_type": "code",
   "execution_count": 99,
   "metadata": {},
   "outputs": [],
   "source": [
    "from collections import Counter\n",
    "\n",
    "def getMessage(code,part=1):\n",
    "    pos = [ [] for i in range(len(code[0])) ]\n",
    "    for l in code:\n",
    "        for i in range(len(l)):\n",
    "            pos[i].append(l[i])\n",
    "    message = \"\"\n",
    "    for p in pos:\n",
    "        count = Counter(p)\n",
    "        if part==1:\n",
    "            message += count.most_common()[0][0]\n",
    "        elif part==2:\n",
    "            message += count.most_common()[-1][0]\n",
    "    return(message)"
   ]
  },
  {
   "cell_type": "code",
   "execution_count": 100,
   "metadata": {},
   "outputs": [
    {
     "name": "stdout",
     "output_type": "stream",
     "text": [
      "easter\n",
      "advent\n"
     ]
    }
   ],
   "source": [
    "code = [\n",
    "'eedadn',\n",
    "'drvtee',\n",
    "'eandsr',\n",
    "'raavrd',\n",
    "'atevrs',\n",
    "'tsrnev',\n",
    "'sdttsa',\n",
    "'rasrtv',\n",
    "'nssdts',\n",
    "'ntnada',\n",
    "'svetve',\n",
    "'tesnvt',\n",
    "'vntsnd',\n",
    "'vrdear',\n",
    "'dvrsen',\n",
    "'enarar'   \n",
    "]\n",
    "\n",
    "print(getMessage(code,1))\n",
    "print(getMessage(code,2))"
   ]
  },
  {
   "cell_type": "code",
   "execution_count": 101,
   "metadata": {},
   "outputs": [
    {
     "name": "stdout",
     "output_type": "stream",
     "text": [
      "Part 1: xdkzukcf\n",
      "Part 2: cevsgyvd\n"
     ]
    }
   ],
   "source": [
    "with open('data/input06.txt') as f:\n",
    "    code = [ l.strip(\"\\n\") for l in f.readlines() ]\n",
    "\n",
    "print(\"Part 1:\", getMessage(code,1))\n",
    "print(\"Part 2:\", getMessage(code,2))"
   ]
  },
  {
   "cell_type": "code",
   "execution_count": null,
   "metadata": {},
   "outputs": [],
   "source": []
  }
 ],
 "metadata": {
  "kernelspec": {
   "display_name": "Python 3",
   "language": "python",
   "name": "python3"
  },
  "language_info": {
   "codemirror_mode": {
    "name": "ipython",
    "version": 3
   },
   "file_extension": ".py",
   "mimetype": "text/x-python",
   "name": "python",
   "nbconvert_exporter": "python",
   "pygments_lexer": "ipython3",
   "version": "3.9.0"
  }
 },
 "nbformat": 4,
 "nbformat_minor": 4
}
