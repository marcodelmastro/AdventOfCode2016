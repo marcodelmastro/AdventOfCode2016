{
 "cells": [
  {
   "cell_type": "markdown",
   "metadata": {},
   "source": [
    "# Day 25\n",
    "\n",
    "https://adventofcode.com/2016/day/25"
   ]
  },
  {
   "cell_type": "code",
   "execution_count": 59,
   "metadata": {},
   "outputs": [],
   "source": [
    "def assembunny(_prog,a=0,b=0,c=0,d=0,lenout=0,verbose=False): \n",
    "    prog = list(_prog) # make a copy of the program to facilitate reuse and testing\n",
    "    reg = { 'a': a, 'b': b, 'c': c, 'd': d }\n",
    "    i = 0\n",
    "    output = []\n",
    "    while True:\n",
    "        if i>=len(prog):\n",
    "            break\n",
    "        cmd = prog[i].split(\" \")\n",
    "        if cmd[0]==\"cpy\":\n",
    "            v = 0\n",
    "            try:\n",
    "                v = int(cmd[1])\n",
    "            except:\n",
    "                v = reg[cmd[1]]\n",
    "            # check if instruction is valid after toggling (e.g. cmd[2] should be a register)\n",
    "            if cmd[2] in [\"a\",\"b\",\"c\",\"d\"]:\n",
    "                reg[cmd[2]] = v\n",
    "            i+=1\n",
    "        elif cmd[0]==\"inc\":\n",
    "            reg[cmd[1]] += 1\n",
    "            i+=1\n",
    "        elif cmd[0]==\"dec\":\n",
    "            reg[cmd[1]] -= 1\n",
    "            i+=1\n",
    "        elif cmd[0]==\"jnz\":\n",
    "            v= 0 \n",
    "            try:\n",
    "                v = int(cmd[1])\n",
    "            except:\n",
    "                v = reg[cmd[1]]\n",
    "            if v!= 0:\n",
    "                try:\n",
    "                    i += int(cmd[2])\n",
    "                except:\n",
    "                    i += reg[cmd[2]]\n",
    "            else:\n",
    "                i += 1 \n",
    "        elif cmd[0]==\"tgl\":\n",
    "            # get the instruction to be toggled\n",
    "            v = 0\n",
    "            try:\n",
    "                v = int(cmd[1])\n",
    "            except:\n",
    "                v = reg[cmd[1]]\n",
    "            if i+v>=len(prog): # outside the program, do nothing\n",
    "                pass\n",
    "            else:\n",
    "                ctgl = prog[i+v].split(\" \")\n",
    "                if len(ctgl)==2: # one argument\n",
    "                    if ctgl[0]==\"inc\":\n",
    "                        ctgl[0] = \"dec\"\n",
    "                    else:\n",
    "                        ctgl[0] = \"inc\"\n",
    "                else:\n",
    "                    if ctgl[0]==\"jnz\":\n",
    "                        ctgl[0] = \"cpy\"\n",
    "                    else:\n",
    "                        ctgl[0] = \"jnz\"\n",
    "                prog[i+v] = \" \".join(ctgl)\n",
    "            i+=1\n",
    "        elif cmd[0]==\"out\":\n",
    "            v = 0\n",
    "            try:\n",
    "                v = int(cmd[1])\n",
    "            except:\n",
    "                v = reg[cmd[1]]\n",
    "            output.append(v)\n",
    "            i+=1\n",
    "        if verbose:\n",
    "            print(\"{}  {} \\t {}\".format(i-1,prog[i-1],reg))\n",
    "        if lenout and len(output)==lenout:\n",
    "            return output   \n",
    "    return reg"
   ]
  },
  {
   "cell_type": "code",
   "execution_count": 55,
   "metadata": {},
   "outputs": [],
   "source": [
    "with open(\"data/input25.txt\") as f:\n",
    "    prog = [l.strip(\"\\n\") for l in f.readlines()]"
   ]
  },
  {
   "cell_type": "code",
   "execution_count": 68,
   "metadata": {
    "scrolled": true
   },
   "outputs": [
    {
     "name": "stdout",
     "output_type": "stream",
     "text": [
      "180 [0, 1, 0, 1, 0, 1, 0, 1, 0, 1, 0, 1, 0, 1, 0, 1, 0, 1, 0, 1]\n"
     ]
    }
   ],
   "source": [
    "o = 10*[0,1]\n",
    "i = 0\n",
    "while True: \n",
    "    out = assembunny(prog,a=i,lenout=20)\n",
    "    if out==o:\n",
    "        print(i,out)\n",
    "        break\n",
    "    i += 1"
   ]
  },
  {
   "cell_type": "code",
   "execution_count": null,
   "metadata": {},
   "outputs": [],
   "source": []
  }
 ],
 "metadata": {
  "kernelspec": {
   "display_name": "Python 3",
   "language": "python",
   "name": "python3"
  },
  "language_info": {
   "codemirror_mode": {
    "name": "ipython",
    "version": 3
   },
   "file_extension": ".py",
   "mimetype": "text/x-python",
   "name": "python",
   "nbconvert_exporter": "python",
   "pygments_lexer": "ipython3",
   "version": "3.9.0"
  }
 },
 "nbformat": 4,
 "nbformat_minor": 4
}
