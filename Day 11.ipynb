{
 "cells": [
  {
   "cell_type": "markdown",
   "metadata": {},
   "source": [
    "# Day 11"
   ]
  },
  {
   "cell_type": "code",
   "execution_count": 466,
   "metadata": {},
   "outputs": [],
   "source": [
    "from copy import deepcopy\n",
    "from queue import Queue\n",
    "from collections import defaultdict\n",
    "from itertools import combinations\n",
    "\n",
    "def ElevatorMoves(E,nfloors=4):\n",
    "    '''Returns possibile Elevator movements given Elevator position'''\n",
    "    return [ E+i for i in [1,-1] if -1<E+i<nfloors and E>-1 and E<nfloors]\n",
    "\n",
    "def FloorToString(F):\n",
    "    '''Return a (hashable) string from Floor list to save visited states'''\n",
    "    s = \"|\"\n",
    "    for f in F:\n",
    "        s += \"-\".join(sorted(f)) + \"|\" # sets needs sorting to guarantee uniqueness of visited state\n",
    "    return(s)\n",
    "\n",
    "def Fried(f):\n",
    "    '''Floor configuration checker'''   \n",
    "    M = { o[0] for o in f if o[1]==\"M\" }\n",
    "    G = { o[0] for o in f if o[1]==\"G\" }\n",
    "    if len(G) and len(M-G):\n",
    "        return True\n",
    "    else:\n",
    "        return False\n",
    "\n",
    "def findMoves(F,savepath=False):\n",
    "\n",
    "    # Define completion condition (all items on last floor)\n",
    "    ffinal = set()\n",
    "    for f in F:\n",
    "        for o in f:\n",
    "            ffinal.add(o)\n",
    "    \n",
    "    # Elevator position\n",
    "    E = 0 \n",
    "\n",
    "    # BFS Queue\n",
    "    queue = Queue()\n",
    "    if savepath: # saving all steps for debugging purpose\n",
    "        queue.put([(F,E)])\n",
    "    else: # Saving only last step floor status, elevator position, elevator moves\n",
    "        queue.put((F,E,0)) \n",
    "    \n",
    "    # Visited configuration dictionary\n",
    "    visited = defaultdict(bool) \n",
    "    visited[ FloorToString(F)+\"E\"+str(E) ] = True\n",
    "\n",
    "    s_longest = 0\n",
    "\n",
    "    while not queue.empty():\n",
    "\n",
    "        if savepath:\n",
    "            path = queue.get()\n",
    "            F,E = path[-1]\n",
    "            s = len(path)-1\n",
    "        else:\n",
    "            F,E,s = queue.get()\n",
    "    \n",
    "        if s>s_longest:\n",
    "            print(s,end = \" \")\n",
    "            s_longest = s\n",
    "    \n",
    "        if F[-1]==ffinal: # all objects collected on 4th floor\n",
    "            print(\"\")\n",
    "            return s\n",
    "        \n",
    "        # Try to move some objects\n",
    "        for i in (1,2): # Elevator can bring 1 or 2 objects\n",
    "            \n",
    "            for p in combinations(F[E],i):\n",
    "                \n",
    "                if Fried(p): # elevator brings frying M+G combination \n",
    "                    continue\n",
    "            \n",
    "                for e in ElevatorMoves(E): # possible elevator moves\n",
    "                    \n",
    "                    Fnew = deepcopy(F)\n",
    "\n",
    "                    for o in p: # move objects between old and new floor\n",
    "                        Fnew[e].add(o)\n",
    "                        Fnew[E].remove(o)\n",
    "                        \n",
    "                    if Fried(Fnew[e]) or Fried(Fnew[E]): # new configuration invalid\n",
    "                        continue          \n",
    "            \n",
    "                    if visited[ FloorToString(Fnew)+\"E\"+str(e) ]: # configuration already checked\n",
    "                        continue\n",
    "                    else:\n",
    "                        if savepath:\n",
    "                            newpath = deepcopy(path)\n",
    "                            newpath.append((Fnew,e))\n",
    "                            queue.put(newpath)\n",
    "                        else:\n",
    "                            queue.put((Fnew,e,s+1))\n",
    "                        visited[ FloorToString(Fnew)+\"E\"+str(e) ] = True"
   ]
  },
  {
   "cell_type": "code",
   "execution_count": 467,
   "metadata": {
    "scrolled": true
   },
   "outputs": [
    {
     "name": "stdout",
     "output_type": "stream",
     "text": [
      "1 2 3 4 5 6 7 8 9 10 11 \n",
      "Test: objects collected on 4th floor in 11 moves\n",
      "Elapsed time = 46.55 ms\n"
     ]
    }
   ],
   "source": [
    "from timeit import default_timer as timer\n",
    "\n",
    "F = [ {\"HM\",\"LM\"}, {\"HG\"}, {\"LG\"}, set() ] \n",
    "\n",
    "start = timer()\n",
    "s = findMoves(F)\n",
    "stop = timer()\n",
    "\n",
    "print(\"Test: objects collected on 4th floor in {} moves\".format(s))\n",
    "print(\"Elapsed time = {:.2f} ms\".format((1000.*(stop-start))))"
   ]
  },
  {
   "cell_type": "markdown",
   "metadata": {},
   "source": [
    "## Part 1\n",
    "\n",
    "Parsing the input by hand..."
   ]
  },
  {
   "cell_type": "code",
   "execution_count": 468,
   "metadata": {},
   "outputs": [
    {
     "name": "stdout",
     "output_type": "stream",
     "text": [
      "The first floor contains a promethium generator and a promethium-compatible microchip.\n",
      "\n",
      "The second floor contains a cobalt generator, a curium generator, a ruthenium generator, and a plutonium generator.\n",
      "\n",
      "The third floor contains a cobalt-compatible microchip, a curium-compatible microchip, a ruthenium-compatible microchip, and a plutonium-compatible microchip.\n",
      "\n",
      "The fourth floor contains nothing relevant.\n",
      "\n"
     ]
    }
   ],
   "source": [
    "with open(\"data/input11.txt\") as f:\n",
    "    for l in f.readlines():\n",
    "        print(l)"
   ]
  },
  {
   "cell_type": "code",
   "execution_count": 469,
   "metadata": {},
   "outputs": [
    {
     "name": "stdout",
     "output_type": "stream",
     "text": [
      "1 2 3 4 5 6 7 8 9 10 11 12 13 14 15 16 17 18 19 20 21 22 23 24 25 26 27 28 29 30 31 32 33 \n",
      "Part 1: objects collected on 4th floor in 33 moves\n",
      "Elapsed time = 39.98 s\n"
     ]
    }
   ],
   "source": [
    "F = [\n",
    "    {'TG','TM'}, # T = promethium\n",
    "    {'CG','KG','RG','PG'}, # K = Curium\n",
    "    {'CM','KM','RM','PM'},\n",
    "    set()\n",
    "]\n",
    "\n",
    "from timeit import default_timer as timer\n",
    "\n",
    "start = timer()\n",
    "s1 = findMoves(F)\n",
    "stop = timer()\n",
    "\n",
    "print(\"Part 1: objects collected on 4th floor in {} moves\".format(s1))\n",
    "print(\"Elapsed time = {:.2f} s\".format(stop-start))"
   ]
  },
  {
   "cell_type": "markdown",
   "metadata": {},
   "source": [
    "## Part 2\n",
    "\n",
    "The phase space to explore becomes larger, thus the incresed running time, and BFS is probably not the best algorothm to solve this problem. \n",
    "\n",
    "I can see some possible optimization, e.g. when there is more than M-G pairs on a floor, moving one or the other will ultimately bring to the same state, so I could in principle prune those \"equivalent stage\":\n",
    "\n",
    "`F1: ...........`  \n",
    "`F0: AG AM BG MG`\n",
    "\n",
    "`F1: ..... BG MG` or  `F1: AG AM .....`  \n",
    "`F0: AG AM .....` or  `F0: ..... BG MG`\n",
    "\n",
    "`F1: AG AM BG MG`  \n",
    "`F0: ...........`\n",
    "\n",
    "I will neverthless leave it running, let's see how long it takes..."
   ]
  },
  {
   "cell_type": "code",
   "execution_count": 470,
   "metadata": {},
   "outputs": [
    {
     "name": "stdout",
     "output_type": "stream",
     "text": [
      "1 2 3 4 5 6 7 8 9 10 11 12 13 14 15 16 17 18 19 20 21 22 23 24 25 26 27 28 29 30 31 32 33 34 35 36 37 38 39 40 41 42 43 44 45 46 47 48 49 50 51 52 53 54 55 56 57 \n",
      "Part 2: objects collected on 4th floor in 57 moves\n",
      "Elapsed time = 45 min\n"
     ]
    }
   ],
   "source": [
    "extra = {'EG','EM','DG','DM'}\n",
    "for e in extra:\n",
    "    F[0].add(e)\n",
    "\n",
    "from timeit import default_timer as timer\n",
    "\n",
    "start = timer()\n",
    "s2 = findMoves(F)\n",
    "stop = timer()\n",
    "\n",
    "print(\"Part 2: objects collected on 4th floor in {} moves\".format(s2))\n",
    "print(\"Elapsed time = {:d} min\".format(int(stop-start)//60))"
   ]
  },
  {
   "cell_type": "code",
   "execution_count": null,
   "metadata": {},
   "outputs": [],
   "source": []
  }
 ],
 "metadata": {
  "kernelspec": {
   "display_name": "Python 3",
   "language": "python",
   "name": "python3"
  },
  "language_info": {
   "codemirror_mode": {
    "name": "ipython",
    "version": 3
   },
   "file_extension": ".py",
   "mimetype": "text/x-python",
   "name": "python",
   "nbconvert_exporter": "python",
   "pygments_lexer": "ipython3",
   "version": "3.9.0"
  }
 },
 "nbformat": 4,
 "nbformat_minor": 4
}
