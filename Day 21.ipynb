{
 "cells": [
  {
   "cell_type": "markdown",
   "metadata": {},
   "source": [
    "# Day 21: Scrambled Letters and Hash\n",
    "\n",
    "https://adventofcode.com/2016/day/21"
   ]
  },
  {
   "cell_type": "code",
   "execution_count": 155,
   "metadata": {},
   "outputs": [],
   "source": [
    "# swap position X with position Y\n",
    "def swapPos(s,p0,p1,verbose=False):\n",
    "    _s = [ c for c in s]\n",
    "    d = _s[p0]\n",
    "    _s[p0] = _s[p1]\n",
    "    _s[p1] = d\n",
    "    return \"\".join(_s)\n",
    "\n",
    "# swap letter X with letter Y means that the letters X and Y should be swapped \n",
    "# (regardless of where they appear in the string).\n",
    "def swapLet(s,c0,c1,verbose=False):\n",
    "    _s = [ c for c in s]\n",
    "    i0 = _s.index(c0)\n",
    "    i1 = _s.index(c1)\n",
    "    _s[i1] = c0\n",
    "    _s[i0] = c1\n",
    "    return \"\".join(_s)\n",
    "\n",
    "# reverse positions X through Y \n",
    "# means that the span of letters at indexes X through Y (including the letters at X and Y) \n",
    "# should be reversed in order.\n",
    "def reversePos(s,p0,p1):\n",
    "    s0 = s[:p0]\n",
    "    s1 = s[p0:p1+1]\n",
    "    s2 = s[p1+1:]\n",
    "    s1 = s1[-1::-1]\n",
    "    return s0+s1+s2\n",
    "\n",
    "# rotate left/right X steps means that the whole string should be rotated; \n",
    "def rotateLR(s,dir,steps):\n",
    "    if dir==\"left\":\n",
    "        return s[steps:]+s[:steps]\n",
    "    elif dir==\"right\":\n",
    "        return s[-steps:]+s[:-steps]\n",
    "    else:\n",
    "        return s\n",
    "    \n",
    "# rotate based on position of letter X  means that the whole string should be rotated \n",
    "# to the right based on the index of letter X (counting from 0) as determined \n",
    "# before this instruction does any rotations. Once the index is determined, rotate the\n",
    "# string to the right one time, plus a number of times equal to that index, plus one \n",
    "# additional time if the index was at least 4.\n",
    "def rotateBasedOnPos(s,c):\n",
    "    i = s.index(c)\n",
    "    s = rotateLR(s,\"right\",1)\n",
    "    s = rotateLR(s,\"right\",i)\n",
    "    if i>=4:\n",
    "        s = rotateLR(s,\"right\",1)\n",
    "    return s\n",
    "\n",
    "# move position X to position Y means that the letter which is at index X should be removed from the string, \n",
    "# then inserted such that it ends up at index Y.\n",
    "def move(s,p0,p1):\n",
    "    if p0<p1:\n",
    "        return s[:p0]+s[p0+1:p1+1]+s[p0]+s[p1+1:]\n",
    "    else:\n",
    "        return s[:p1]+s[p0]+s[p1:p0]+s[p0+1:]"
   ]
  },
  {
   "cell_type": "code",
   "execution_count": 174,
   "metadata": {},
   "outputs": [],
   "source": [
    "def scramble(s,instr):\n",
    "    for i in instr:\n",
    "        c = i.split(\" \")\n",
    "        if c[0]==\"swap\":\n",
    "            if c[1]==\"position\":\n",
    "                s = swapPos(s,int(c[2]),int(c[5]))\n",
    "            elif c[1]==\"letter\":\n",
    "                s = swapLet(s,c[2],c[5])\n",
    "        elif c[0]==\"reverse\":\n",
    "            s = reversePos(s,int(c[2]),int(c[4]))\n",
    "        elif c[0]==\"rotate\":\n",
    "            if c[1]==\"based\":\n",
    "                s = rotateBasedOnPos(s,c[-1])\n",
    "            else:\n",
    "                s = rotateLR(s,c[1],int(c[2]))\n",
    "        elif c[0]==\"move\":\n",
    "            s = move(s,int(c[2]),int(c[5]))\n",
    "    return s"
   ]
  },
  {
   "cell_type": "code",
   "execution_count": 175,
   "metadata": {},
   "outputs": [
    {
     "name": "stdout",
     "output_type": "stream",
     "text": [
      "START abcde\n",
      "ebcda ebcda True\n",
      "edcba edcba True\n",
      "abcde abcde True\n",
      "bcdea bcdea True\n",
      "bdeac bdeac True\n",
      "abdec abdec True\n",
      "ecabd ecabd True\n",
      "decab decab True\n"
     ]
    }
   ],
   "source": [
    "s = \"abcde\"\n",
    "print(\"START\",s)\n",
    "\n",
    "s = swapPos(s,4,0) \n",
    "print(s,\"ebcda\",s==\"ebcda\")\n",
    "\n",
    "s = swapLet(s,'d','b')\n",
    "print(s,\"edcba\",s==\"edcba\")\n",
    "\n",
    "s = reversePos(s,0,4)\n",
    "print(s,\"abcde\",s==\"abcde\")\n",
    "\n",
    "s = rotateLR(s,'left',1)\n",
    "print(s,\"bcdea\",s==\"bcdea\")\n",
    "\n",
    "s = move(s,1,4)\n",
    "print(s,\"bdeac\",s==\"bdeac\")\n",
    "\n",
    "s = move(s,3,0)\n",
    "print(s,\"abdec\",s==\"abdec\")\n",
    "\n",
    "s = rotateBasedOnPos(s,'b')\n",
    "print(s,\"ecabd\",s==\"ecabd\")\n",
    "\n",
    "s = rotateBasedOnPos(s,'d')\n",
    "print(s,\"decab\",s==\"decab\")"
   ]
  },
  {
   "cell_type": "code",
   "execution_count": 180,
   "metadata": {},
   "outputs": [
    {
     "name": "stdout",
     "output_type": "stream",
     "text": [
      "decab\n"
     ]
    }
   ],
   "source": [
    "instr = [ 'swap position 4 with position 0',\n",
    "'swap letter d with letter b',\n",
    "'reverse positions 0 through 4',\n",
    "'rotate left 1 step',\n",
    "'move position 1 to position 4',\n",
    "'move position 3 to position 0',\n",
    "'rotate based on position of letter b',\n",
    "'rotate based on position of letter d']\n",
    "\n",
    "print(scramble(\"abcde\",instr))"
   ]
  },
  {
   "cell_type": "code",
   "execution_count": 184,
   "metadata": {},
   "outputs": [
    {
     "name": "stdout",
     "output_type": "stream",
     "text": [
      "gbhcefad\n"
     ]
    }
   ],
   "source": [
    "with open(\"./data/input21.txt\") as f:\n",
    "    instr = [ l.strip(\"\\n\") for l in f.readlines() ]\n",
    "\n",
    "print(scramble(\"abcdefgh\",instr))"
   ]
  },
  {
   "cell_type": "code",
   "execution_count": 189,
   "metadata": {},
   "outputs": [
    {
     "name": "stdout",
     "output_type": "stream",
     "text": [
      "gahedfcb\n"
     ]
    }
   ],
   "source": [
    "from itertools import permutations\n",
    "\n",
    "scramb = \"fbgdceah\"\n",
    "\n",
    "for p in permutations(scramb):\n",
    "    if scramble(p,instr)==scramb:\n",
    "        print(\"\".join(p))\n",
    "        break"
   ]
  },
  {
   "cell_type": "code",
   "execution_count": null,
   "metadata": {},
   "outputs": [],
   "source": []
  }
 ],
 "metadata": {
  "kernelspec": {
   "display_name": "Python 3",
   "language": "python",
   "name": "python3"
  },
  "language_info": {
   "codemirror_mode": {
    "name": "ipython",
    "version": 3
   },
   "file_extension": ".py",
   "mimetype": "text/x-python",
   "name": "python",
   "nbconvert_exporter": "python",
   "pygments_lexer": "ipython3",
   "version": "3.9.0"
  }
 },
 "nbformat": 4,
 "nbformat_minor": 4
}
