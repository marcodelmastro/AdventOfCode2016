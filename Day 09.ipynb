{
 "cells": [
  {
   "cell_type": "markdown",
   "metadata": {},
   "source": [
    "# Day 9: Explosives in Cyberspace\n",
    "\n",
    "https://adventofcode.com/2016/day/9\n",
    "\n",
    "## Part 1"
   ]
  },
  {
   "cell_type": "code",
   "execution_count": 63,
   "metadata": {},
   "outputs": [],
   "source": [
    "def decompress(s):\n",
    "    sd = \"\"\n",
    "    i = 0\n",
    "    while i<len(s):\n",
    "        if s[i]==\"(\":\n",
    "            marker = \"\"\n",
    "            j = i+1\n",
    "            m = s[j]\n",
    "            while m!=\")\":\n",
    "                marker += m\n",
    "                j+=1\n",
    "                m = s[j]\n",
    "            [n,k] = marker.split(\"x\")\n",
    "            for _ in range(int(k)):\n",
    "                sd+= s[j+1:j+1+int(n)]\n",
    "            i = j+1+int(n)\n",
    "        else:\n",
    "            sd += s[i]\n",
    "            i+=1\n",
    "    return sd"
   ]
  },
  {
   "cell_type": "code",
   "execution_count": 64,
   "metadata": {},
   "outputs": [
    {
     "name": "stdout",
     "output_type": "stream",
     "text": [
      "ABCBCDEFEFG\n",
      "XYZXYZXYZ\n",
      "(1x3)A\n"
     ]
    }
   ],
   "source": [
    "print(decompress(\"A(2x2)BCD(2x2)EFG\"))\n",
    "print(decompress('(3x3)XYZ'))\n",
    "print(decompress('(6x1)(1x3)A'))"
   ]
  },
  {
   "cell_type": "code",
   "execution_count": 65,
   "metadata": {},
   "outputs": [
    {
     "name": "stdout",
     "output_type": "stream",
     "text": [
      "112830\n"
     ]
    }
   ],
   "source": [
    "with open('./data/input09.txt') as f:\n",
    "    s = f.readlines()[0].strip('\\n')\n",
    "print(len(decompress(s)))"
   ]
  },
  {
   "cell_type": "markdown",
   "metadata": {},
   "source": [
    "## Part 2\n",
    "\n",
    "Using explicit solution to Part 1 can work for small example, but explodes with larger ones!"
   ]
  },
  {
   "cell_type": "code",
   "execution_count": 66,
   "metadata": {},
   "outputs": [
    {
     "name": "stdout",
     "output_type": "stream",
     "text": [
      "445\n"
     ]
    }
   ],
   "source": [
    "s = \"(25x3)(3x3)ABC(2x3)XY(5x2)PQRSTX(18x9)(3x2)TWO(5x7)SEVEN\"\n",
    "while \"(\" in s:\n",
    "    s = decompress(s)\n",
    "print(len(s))"
   ]
  },
  {
   "cell_type": "markdown",
   "metadata": {},
   "source": [
    "Assuming each decompressed repeating item can be decopressed but itself (e.g. no overlapping on chain of repeating items: it makes sense if this really was a compression algorithm), I can save the single repeating item and the number of times it should repeat in the final string, iterate until no marker is found anymore, and then compute lenght from lenghts of single finel repeating items and number of repetitions, while not attempting to form the full string.\n",
    "\n",
    "I'll save the information in a list of ntuple:\n",
    "\n",
    "`[(N1,<repeating string 1>),(N2,<repeating string 2>),...]`"
   ]
  },
  {
   "cell_type": "code",
   "execution_count": 104,
   "metadata": {},
   "outputs": [],
   "source": [
    "def decompress2(sN):\n",
    "    snew = []\n",
    "    for N,s in sN:\n",
    "        i = 0\n",
    "        while i<len(s):\n",
    "            if s[i]==\"(\":\n",
    "                marker = \"\"\n",
    "                j = i+1\n",
    "                m = s[j]\n",
    "                while m!=\")\":\n",
    "                    marker += m\n",
    "                    j+=1\n",
    "                    m = s[j]\n",
    "                [n,k] = marker.split(\"x\")\n",
    "                rep = s[j+1:j+1+int(n)]\n",
    "                snew.append((N*int(k),rep))\n",
    "                i = j+1+int(n)\n",
    "            else:\n",
    "                snew.append((N,s[i]))\n",
    "                i+=1\n",
    "    return snew\n",
    "\n",
    "def iterativeDecompress(s):\n",
    "    sN = [(1,s)] # initial string to be decompressed, stored a single item repeating once\n",
    "    decoded = False\n",
    "    while not decoded:\n",
    "        decoded = True\n",
    "        for N,s in sN:\n",
    "            if \"(\" in s:\n",
    "                decoded = False\n",
    "                break\n",
    "        if not decoded:\n",
    "            sNnew = decompress2(sN)\n",
    "            sN = sNnew \n",
    "    lenght = 0\n",
    "    for N,s in sN:\n",
    "        lenght += N*len(s)\n",
    "    return lenght"
   ]
  },
  {
   "cell_type": "code",
   "execution_count": 105,
   "metadata": {},
   "outputs": [
    {
     "name": "stdout",
     "output_type": "stream",
     "text": [
      "445\n"
     ]
    }
   ],
   "source": [
    "s = \"(25x3)(3x3)ABC(2x3)XY(5x2)PQRSTX(18x9)(3x2)TWO(5x7)SEVEN\"\n",
    "print(iterativeDecompress(s))"
   ]
  },
  {
   "cell_type": "code",
   "execution_count": 106,
   "metadata": {},
   "outputs": [
    {
     "name": "stdout",
     "output_type": "stream",
     "text": [
      "241920\n"
     ]
    }
   ],
   "source": [
    "s = \"(27x12)(20x12)(13x14)(7x10)(1x12)A\"\n",
    "print(iterativeDecompress(s))"
   ]
  },
  {
   "cell_type": "code",
   "execution_count": 107,
   "metadata": {},
   "outputs": [
    {
     "name": "stdout",
     "output_type": "stream",
     "text": [
      "10931789799\n"
     ]
    }
   ],
   "source": [
    "with open('./data/input09.txt') as f:\n",
    "    s = f.readlines()[0].strip('\\n')\n",
    "print(iterativeDecompress(s))"
   ]
  },
  {
   "cell_type": "code",
   "execution_count": null,
   "metadata": {},
   "outputs": [],
   "source": []
  }
 ],
 "metadata": {
  "kernelspec": {
   "display_name": "Python 3",
   "language": "python",
   "name": "python3"
  },
  "language_info": {
   "codemirror_mode": {
    "name": "ipython",
    "version": 3
   },
   "file_extension": ".py",
   "mimetype": "text/x-python",
   "name": "python",
   "nbconvert_exporter": "python",
   "pygments_lexer": "ipython3",
   "version": "3.9.0"
  }
 },
 "nbformat": 4,
 "nbformat_minor": 4
}
