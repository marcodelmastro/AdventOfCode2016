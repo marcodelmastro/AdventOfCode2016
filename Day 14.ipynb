{
 "cells": [
  {
   "cell_type": "markdown",
   "metadata": {},
   "source": [
    "# Day 14: One-Time Pad \n",
    "\n",
    "https://adventofcode.com/2016/day/14#part2"
   ]
  },
  {
   "cell_type": "code",
   "execution_count": 135,
   "metadata": {},
   "outputs": [],
   "source": [
    "from collections import defaultdict\n",
    "import hashlib\n",
    "import re\n",
    "    \n",
    "def getKeys(salt,part=1,verbose=False):\n",
    "    \n",
    "    # cache hashes to avoid recomputing, including presence of 3- and 5-char repetitions\n",
    "    hashes = {}\n",
    "    def getHash(i,salt):\n",
    "        if i in hashes.keys():\n",
    "            return hashes[i]\n",
    "        else:\n",
    "            h = salt+str(i)\n",
    "            r = (hashlib.md5(h.encode())).hexdigest()\n",
    "            t3 = re.findall(r'((\\w)\\2{2})', r)\n",
    "            t5 = re.findall(r'((\\w)\\2{4})', r)\n",
    "            hashes[i] = (r,t3,t5)\n",
    "            return (r,t3,t5)\n",
    "\n",
    "    hashes2 = {}\n",
    "    def getHash2(i,salt):\n",
    "        if i in hashes2.keys():\n",
    "            return hashes2[i]\n",
    "        else:\n",
    "            r = salt+str(i)\n",
    "            for _ in range(2017):\n",
    "                r = (hashlib.md5(r.encode())).hexdigest()\n",
    "            t3 = re.findall(r'((\\w)\\2{2})', r)\n",
    "            t5 = re.findall(r'((\\w)\\2{4})', r)\n",
    "            hashes2[i] = (r,t3,t5)\n",
    "            return (r,t3,t5)\n",
    "    \n",
    "    keys = []\n",
    "    i = -1\n",
    "    while len(keys)<64:\n",
    "        i+=1\n",
    "        t3=[]\n",
    "        if part==1:\n",
    "            _,t3,_ = getHash(i,salt)\n",
    "        elif part==2:\n",
    "            _,t3,_ = getHash2(i,salt) \n",
    "        if len(t3):\n",
    "            for j in range(1,1000):\n",
    "                t5=[]\n",
    "                if part==1:\n",
    "                    _,_,t5 = getHash(i+j,salt)\n",
    "                elif part==2:\n",
    "                    _,_,t5 = getHash2(i+j,salt)\n",
    "                if len(t5):\n",
    "                    if t5[0][1] == t3[0][1]:\n",
    "                        keys.append(i)\n",
    "                        if verbose:\n",
    "                            print(len(keys),\"-->\",i,t3[0][0],i+j,t5[0][0])\n",
    "                        break\n",
    "    return keys"
   ]
  },
  {
   "cell_type": "code",
   "execution_count": 130,
   "metadata": {},
   "outputs": [
    {
     "name": "stdout",
     "output_type": "stream",
     "text": [
      "Test 1 - Index producing 64th one-time pad key: 22728\n"
     ]
    }
   ],
   "source": [
    "print(\"Test 1 - Index producing 64th one-time pad key:\",getKeys(\"abc\",part=1)[-1])"
   ]
  },
  {
   "cell_type": "code",
   "execution_count": 131,
   "metadata": {},
   "outputs": [
    {
     "name": "stdout",
     "output_type": "stream",
     "text": [
      "Part 1 - Index producing 64th one-time pad key: 23890\n"
     ]
    }
   ],
   "source": [
    "print(\"Part 1 - Index producing 64th one-time pad key:\",getKeys(\"ahsbgdzn\",part=1)[-1])"
   ]
  },
  {
   "cell_type": "code",
   "execution_count": 132,
   "metadata": {},
   "outputs": [
    {
     "name": "stdout",
     "output_type": "stream",
     "text": [
      "Test 2 - Index producing 64th one-time pad key: 22551\n"
     ]
    }
   ],
   "source": [
    "print(\"Test 2 - Index producing 64th one-time pad key:\",getKeys(\"abc\",part=2)[-1])"
   ]
  },
  {
   "cell_type": "code",
   "execution_count": 137,
   "metadata": {},
   "outputs": [
    {
     "name": "stdout",
     "output_type": "stream",
     "text": [
      "Part 2 - Index producing 64th one-time pad key: 22696\n"
     ]
    }
   ],
   "source": [
    "print(\"Part 2 - Index producing 64th one-time pad key:\",getKeys(\"ahsbgdzn\",part=2)[-1])"
   ]
  },
  {
   "cell_type": "code",
   "execution_count": null,
   "metadata": {},
   "outputs": [],
   "source": []
  }
 ],
 "metadata": {
  "kernelspec": {
   "display_name": "Python 3",
   "language": "python",
   "name": "python3"
  },
  "language_info": {
   "codemirror_mode": {
    "name": "ipython",
    "version": 3
   },
   "file_extension": ".py",
   "mimetype": "text/x-python",
   "name": "python",
   "nbconvert_exporter": "python",
   "pygments_lexer": "ipython3",
   "version": "3.9.0"
  }
 },
 "nbformat": 4,
 "nbformat_minor": 4
}
