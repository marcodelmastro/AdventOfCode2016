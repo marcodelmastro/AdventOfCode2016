{
 "cells": [
  {
   "cell_type": "markdown",
   "metadata": {},
   "source": [
    "# Day 22"
   ]
  },
  {
   "cell_type": "code",
   "execution_count": 65,
   "metadata": {},
   "outputs": [
    {
     "name": "stdout",
     "output_type": "stream",
     "text": [
      "960\n"
     ]
    }
   ],
   "source": [
    "import re\n",
    "\n",
    "f = open(\"data/input22.txt\")\n",
    "\n",
    "values = re.compile(r'\\d+')\n",
    "\n",
    "nodes = {}\n",
    "for l in f.readlines():\n",
    "    v = [ int(d) for d in re.findall(values,l) ]\n",
    "    if len(v):\n",
    "        nodes[(v[0],v[1])] = (v[2],v[3],v[4]) # Size  Used  Avail\n",
    "        \n",
    "print(len(nodes))"
   ]
  },
  {
   "cell_type": "markdown",
   "metadata": {},
   "source": [
    "## Part 1"
   ]
  },
  {
   "cell_type": "code",
   "execution_count": 66,
   "metadata": {},
   "outputs": [
    {
     "name": "stdout",
     "output_type": "stream",
     "text": [
      "946\n"
     ]
    }
   ],
   "source": [
    "pairs = []\n",
    "\n",
    "for n in nodes.keys():\n",
    "    for m in nodes.keys():\n",
    "        if m==n:\n",
    "            continue\n",
    "        if nodes[n][1]>0 and nodes[n][1]<nodes[m][2]: # Size(n)>0 and Size(n) < Avail(n):\n",
    "            pairs.append((n,m))\n",
    "            \n",
    "print(len(pairs))"
   ]
  },
  {
   "cell_type": "code",
   "execution_count": null,
   "metadata": {},
   "outputs": [],
   "source": []
  }
 ],
 "metadata": {
  "kernelspec": {
   "display_name": "Python 3",
   "language": "python",
   "name": "python3"
  },
  "language_info": {
   "codemirror_mode": {
    "name": "ipython",
    "version": 3
   },
   "file_extension": ".py",
   "mimetype": "text/x-python",
   "name": "python",
   "nbconvert_exporter": "python",
   "pygments_lexer": "ipython3",
   "version": "3.9.0"
  }
 },
 "nbformat": 4,
 "nbformat_minor": 4
}
