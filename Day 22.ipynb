{
 "cells": [
  {
   "cell_type": "markdown",
   "metadata": {},
   "source": [
    "# Day 22"
   ]
  },
  {
   "cell_type": "code",
   "execution_count": 53,
   "metadata": {},
   "outputs": [],
   "source": [
    "import re\n",
    "\n",
    "def getNodes(filename):\n",
    "    f = open(filename)\n",
    "    values = re.compile(r'\\d+')\n",
    "    nodes = {}\n",
    "    for l in f.readlines():\n",
    "        v = [ int(d) for d in re.findall(values,l) ]\n",
    "        if len(v):\n",
    "            nodes[(v[0],v[1])] = (v[2],v[3],v[4]) # Size  Used  Avail\n",
    "    return(nodes)"
   ]
  },
  {
   "cell_type": "markdown",
   "metadata": {},
   "source": [
    "## Part 1"
   ]
  },
  {
   "cell_type": "code",
   "execution_count": 54,
   "metadata": {},
   "outputs": [
    {
     "name": "stdout",
     "output_type": "stream",
     "text": [
      "946\n"
     ]
    }
   ],
   "source": [
    "nodes = getNodes(\"data/input22.txt\")\n",
    "\n",
    "pairs = []\n",
    "\n",
    "for n in nodes.keys():\n",
    "    for m in nodes.keys():\n",
    "        if m==n:\n",
    "            continue\n",
    "        if nodes[n][1]>0 and nodes[n][1]<nodes[m][2]: # Size(n)>0 and Size(n) < Avail(n):\n",
    "            pairs.append((n,m))\n",
    "            \n",
    "print(len(pairs))"
   ]
  },
  {
   "cell_type": "markdown",
   "metadata": {},
   "source": [
    "## Part 2\n",
    "\n",
    "Solving it by hand!"
   ]
  },
  {
   "cell_type": "code",
   "execution_count": 56,
   "metadata": {},
   "outputs": [
    {
     "data": {
      "image/png": "[encoded data removed]",
      "text/plain": [
       "<Figure size 720x720 with 1 Axes>"
      ]
     },
     "metadata": {
      "needs_background": "light"
     },
     "output_type": "display_data"
    }
   ],
   "source": [
    "import numpy as np\n",
    "import matplotlib.pyplot as plt\n",
    "\n",
    "X = [ x for x,y in nodes.keys() ]\n",
    "Y = [ y for x,y in nodes.keys() ]\n",
    "\n",
    "grid = np.zeros((max(Y)-min(Y)+1,max(X)-min(Y)+1),dtype=int)\n",
    "\n",
    "for n in nodes.keys():\n",
    "    x,y = n\n",
    "    grid[y][x] = nodes[n][1]\n",
    "    if n == (0,0): grid[y][x]=-30 # mark target location\n",
    "    if n == (max(X),0): grid[y][x]=-30 # mark data to move\n",
    "\n",
    "plt.figure(figsize=(10,10))\n",
    "#plt.imshow(grid)\n",
    "plt.pcolormesh(grid, edgecolors='k', linewidth=2)\n",
    "ax = plt.gca()\n",
    "ax.set_aspect('equal')"
   ]
  },
  {
   "cell_type": "code",
   "execution_count": 60,
   "metadata": {},
   "outputs": [
    {
     "name": "stdout",
     "output_type": "stream",
     "text": [
      "195\n"
     ]
    }
   ],
   "source": [
    "# steps to move space to (0,31) in front of data to be moved from (0,32) to (0,5)\n",
    "s = 6 + 26 + 12 \n",
    "\n",
    "# 1 step to flip space behind data at (0,32) and data in space position (0,31)\n",
    "s += 1\n",
    "\n",
    "# 4 steps to move space from in front of data again (e.g. to 0,2) + 1 to swap data with space = 5 moves\n",
    "# to be repeated \n",
    "s += 5 * 30\n",
    "\n",
    "print(s)"
   ]
  },
  {
   "cell_type": "code",
   "execution_count": null,
   "metadata": {},
   "outputs": [],
   "source": []
  }
 ],
 "metadata": {
  "kernelspec": {
   "display_name": "Python 3",
   "language": "python",
   "name": "python3"
  },
  "language_info": {
   "codemirror_mode": {
    "name": "ipython",
    "version": 3
   },
   "file_extension": ".py",
   "mimetype": "text/x-python",
   "name": "python",
   "nbconvert_exporter": "python",
   "pygments_lexer": "ipython3",
   "version": "3.9.0"
  }
 },
 "nbformat": 4,
 "nbformat_minor": 4
}
