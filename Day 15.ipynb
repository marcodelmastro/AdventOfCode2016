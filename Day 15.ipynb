{
 "cells": [
  {
   "cell_type": "markdown",
   "metadata": {},
   "source": [
    "# Day 15: Timing is Everything\n",
    "\n",
    "https://adventofcode.com/2016/day/15#part2"
   ]
  },
  {
   "cell_type": "code",
   "execution_count": 89,
   "metadata": {},
   "outputs": [],
   "source": [
    "def getDisks(inputlist):\n",
    "    disks = []\n",
    "    offset = 1\n",
    "    for l in inputlist:\n",
    "        d = l.split(\" \")\n",
    "        disks.append((int(d[3]),int(d[-1].strip(\".\"))+offset))\n",
    "        offset+=1\n",
    "    return disks\n",
    "        \n",
    "def capsulePass(t,disks):\n",
    "    Pass = True\n",
    "    for size,pos in disks:\n",
    "        Pass = Pass and (pos+t)%size==0\n",
    "    return Pass\n",
    "\n",
    "def getTimingBruteForce(disks, verbose):\n",
    "    t = 0\n",
    "    while True:\n",
    "        Pass = capsulePass(t,disks)\n",
    "        if verbose:\n",
    "            print(\"t = \",t,Pass)\n",
    "        if Pass:\n",
    "            break\n",
    "        t += 1\n",
    "    return t"
   ]
  },
  {
   "cell_type": "code",
   "execution_count": 90,
   "metadata": {},
   "outputs": [
    {
     "name": "stdout",
     "output_type": "stream",
     "text": [
      "t =  0 False\n",
      "t =  1 False\n",
      "t =  2 False\n",
      "t =  3 False\n",
      "t =  4 False\n",
      "t =  5 True\n",
      "5\n"
     ]
    }
   ],
   "source": [
    "test = [\n",
    "    'Disc #1 has 5 positions; at time=0, it is at position 4.',\n",
    "    'Disc #2 has 2 positions; at time=0, it is at position 1.'\n",
    "]\n",
    "\n",
    "disks = getDisks(test)\n",
    "print(getTimingBruteForce(disks, verbose=True))"
   ]
  },
  {
   "cell_type": "code",
   "execution_count": 91,
   "metadata": {},
   "outputs": [
    {
     "name": "stdout",
     "output_type": "stream",
     "text": [
      "16824\n"
     ]
    }
   ],
   "source": [
    "with open(\"data/input15.txt\") as f:\n",
    "    instr = [ l.strip(\"\\n\") for l in f.readlines()]\n",
    "\n",
    "disks = getDisks(instr)\n",
    "print(getTimingBruteForce(disks, verbose=False))"
   ]
  },
  {
   "cell_type": "code",
   "execution_count": 92,
   "metadata": {},
   "outputs": [
    {
     "name": "stdout",
     "output_type": "stream",
     "text": [
      "[(17, 6), (19, 10), (7, 4), (13, 11), (5, 6), (3, 6)]\n",
      "[(17, 6), (19, 10), (7, 4), (13, 11), (5, 6), (3, 6), (11, 7)]\n"
     ]
    }
   ],
   "source": [
    "print(disks)\n",
    "disks.append((11,len(disks)+1))\n",
    "print(disks)"
   ]
  },
  {
   "cell_type": "code",
   "execution_count": 93,
   "metadata": {},
   "outputs": [
    {
     "name": "stdout",
     "output_type": "stream",
     "text": [
      "3543984\n"
     ]
    }
   ],
   "source": [
    "print(getTimingBruteForce(disks, verbose=False))"
   ]
  },
  {
   "cell_type": "code",
   "execution_count": null,
   "metadata": {},
   "outputs": [],
   "source": []
  }
 ],
 "metadata": {
  "kernelspec": {
   "display_name": "Python 3",
   "language": "python",
   "name": "python3"
  },
  "language_info": {
   "codemirror_mode": {
    "name": "ipython",
    "version": 3
   },
   "file_extension": ".py",
   "mimetype": "text/x-python",
   "name": "python",
   "nbconvert_exporter": "python",
   "pygments_lexer": "ipython3",
   "version": "3.9.0"
  }
 },
 "nbformat": 4,
 "nbformat_minor": 4
}
