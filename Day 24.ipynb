{
 "cells": [
  {
   "cell_type": "markdown",
   "metadata": {},
   "source": [
    "# Day 24\n",
    "\n",
    "https://adventofcode.com/2016/day/24\n",
    "\n",
    "Since I solved Day 18 of AOC 2019 (maze with keys and doors) I know how to tackle this kind of problems. It's a tree navigation I can solve with DFS, but with an additional dimension to be tracked other then the physical coordinate, in this case the series of special locations already visited.\n",
    "\n",
    "## Part 1"
   ]
  },
  {
   "cell_type": "code",
   "execution_count": 199,
   "metadata": {},
   "outputs": [],
   "source": [
    "from collections import defaultdict\n",
    "from queue import Queue\n",
    "\n",
    "def getStart(amaze,start=\"0\"):\n",
    "    ys = 0\n",
    "    xs = -1\n",
    "    for l in amaze:\n",
    "        if start in l:\n",
    "            xs = l.index(start)\n",
    "        if xs>=0:\n",
    "            return (xs,ys,'0') \n",
    "        ys += 1\n",
    "        \n",
    "def getLocations(amaze):\n",
    "    pos = []\n",
    "    loc = []\n",
    "    y = 0\n",
    "    for l in amaze:\n",
    "        x = 0\n",
    "        for c in l:\n",
    "            if c!='#' and c!='.':\n",
    "                pos.append(c)\n",
    "                loc.append((x,y))\n",
    "            x+=1\n",
    "        y+=1\n",
    "    return pos,loc\n",
    "\n",
    "def getAdjacent(n):\n",
    "    '''returns list of adiacent cells'''\n",
    "    x,y = n\n",
    "    return [(x-1,y), # W\n",
    "            (x,y-1), # N\n",
    "            (x+1,y), # E\n",
    "            (x,y+1)] # S\n",
    "\n",
    "def searchLocations(amaze):\n",
    "    start = getStart(amaze)\n",
    "    loc,_ = getLocations(amaze)\n",
    "    locs = \"\".join(sorted(loc)) # storing visited special locations as a string, so that it's hashable\n",
    "    queue = Queue()\n",
    "    queue.put([0,start])\n",
    "    visited = defaultdict(bool) # dictionary of visited location for faster access\n",
    "    visited[start] = True\n",
    "    while not queue.empty():\n",
    "        path = queue.get()\n",
    "        c = path[1]\n",
    "        xc,yc,visitedlocs = c\n",
    "        if visitedlocs == locs:\n",
    "            break\n",
    "        for a in getAdjacent((xc,yc)):\n",
    "            xa,ya = a\n",
    "            ak = (xa,ya,visitedlocs)\n",
    "            if amaze[ya][xa] == '#' or visited[ak]:\n",
    "                continue\n",
    "            else:\n",
    "                new_visitedlocs = visitedlocs\n",
    "                if amaze[ya][xa]!=\".\" and amaze[ya][xa] not in visitedlocs: # found a new special location\n",
    "                    new_visitedlocs = \"\".join(sorted(visitedlocs + amaze[ya][xa]))\n",
    "                ak = (xa,ya,new_visitedlocs)\n",
    "                visited[ak] = True\n",
    "                lenght = path[0]+1\n",
    "                new_path = [lenght,ak]\n",
    "                queue.put(new_path)\n",
    "    return path"
   ]
  },
  {
   "cell_type": "code",
   "execution_count": 200,
   "metadata": {},
   "outputs": [
    {
     "name": "stdout",
     "output_type": "stream",
     "text": [
      "14\n"
     ]
    }
   ],
   "source": [
    "maze = [\n",
    "    '###########',\n",
    "    '#0.1.....2#',\n",
    "    '#.#######.#',\n",
    "    '#4.......3#',\n",
    "    '###########'\n",
    "]\n",
    "\n",
    "path = searchLocations(maze)\n",
    "print(path[0])"
   ]
  },
  {
   "cell_type": "code",
   "execution_count": 201,
   "metadata": {},
   "outputs": [
    {
     "name": "stdout",
     "output_type": "stream",
     "text": [
      "448\n"
     ]
    }
   ],
   "source": [
    "with open(\"data/input24.txt\") as f:\n",
    "    maze = [l.strip(\"\\n\") for l in f.readlines()]\n",
    "\n",
    "path = searchLocations(maze)\n",
    "print(path[0])"
   ]
  },
  {
   "cell_type": "code",
   "execution_count": 228,
   "metadata": {},
   "outputs": [
    {
     "data": {
      "image/png": "[encoded data removed]",
      "text/plain": [
       "<Figure size 1440x1440 with 1 Axes>"
      ]
     },
     "metadata": {
      "needs_background": "light"
     },
     "output_type": "display_data"
    }
   ],
   "source": [
    "import numpy as np\n",
    "import matplotlib.pyplot as plt\n",
    "\n",
    "with open(\"data/input24.txt\") as f:\n",
    "    maze = [l.strip(\"\\n\") for l in f.readlines()]\n",
    "\n",
    "theMaze = np.zeros((len(maze),len(maze[0])))\n",
    "      \n",
    "EMPTY   = 0\n",
    "WALL    = 1\n",
    "SPECIAL = 2\n",
    "\n",
    "y = 0\n",
    "for r in maze:\n",
    "    x = 0\n",
    "    for c in r:\n",
    "        if c=='#':\n",
    "            theMaze[y,x] = WALL\n",
    "        elif c==\".\":\n",
    "            theMaze[y,x] = EMPTY\n",
    "        else:\n",
    "            theMaze[y,x] = SPECIAL\n",
    "        x+=1\n",
    "    y+=1\n",
    "\n",
    "plt.figure(figsize=(20,20))\n",
    "f = plt.imshow(theMaze)\n",
    "f.axes.get_xaxis().set_visible(False)\n",
    "f.axes.get_yaxis().set_visible(False)"
   ]
  },
  {
   "cell_type": "code",
   "execution_count": null,
   "metadata": {},
   "outputs": [],
   "source": []
  }
 ],
 "metadata": {
  "kernelspec": {
   "display_name": "Python 3",
   "language": "python",
   "name": "python3"
  },
  "language_info": {
   "codemirror_mode": {
    "name": "ipython",
    "version": 3
   },
   "file_extension": ".py",
   "mimetype": "text/x-python",
   "name": "python",
   "nbconvert_exporter": "python",
   "pygments_lexer": "ipython3",
   "version": "3.9.0"
  }
 },
 "nbformat": 4,
 "nbformat_minor": 4
}
