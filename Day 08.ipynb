{
 "cells": [
  {
   "cell_type": "markdown",
   "metadata": {},
   "source": [
    "# Day 8: Two-Factor Authentication\n",
    "\n",
    "https://adventofcode.com/2016/day/8"
   ]
  },
  {
   "cell_type": "code",
   "execution_count": 64,
   "metadata": {},
   "outputs": [],
   "source": [
    "import numpy as np\n",
    "\n",
    "def applyInstructions(instr,screen):\n",
    "    for i in instr:\n",
    "        ii = i.split(\" \")\n",
    "        if len(ii)==2: # rect\n",
    "            d = [ int(k) for k in ii[1].split(\"x\")]\n",
    "            rect = rect = np.ones((d[1],d[0]))\n",
    "            screen[0:d[1],0:d[0]] = rect\n",
    "        elif len(ii)==5: # rotate\n",
    "            xy = int(ii[2].split(\"=\")[-1])\n",
    "            r = int(ii[-1])\n",
    "            if ii[1]==\"column\":\n",
    "                c = screen[:,xy]\n",
    "                c_new = np.concatenate((c[-r:],c[:-r]))\n",
    "                screen[:,xy] = c_new\n",
    "            elif ii[1]=='row':\n",
    "                c = screen[xy,:]\n",
    "                c_new = np.concatenate((c[-r:],c[:-r]))\n",
    "                screen[xy,:] = c_new\n",
    "    return screen"
   ]
  },
  {
   "cell_type": "code",
   "execution_count": 65,
   "metadata": {},
   "outputs": [
    {
     "name": "stdout",
     "output_type": "stream",
     "text": [
      "[[0 1 0 0 1 0 1]\n",
      " [1 0 1 0 0 0 0]\n",
      " [0 1 0 0 0 0 0]]\n"
     ]
    }
   ],
   "source": [
    "instr = [\n",
    "'rect 3x2',\n",
    "'rotate column x=1 by 1',\n",
    "'rotate row y=0 by 4',\n",
    "'rotate column x=1 by 1',\n",
    "]\n",
    "\n",
    "screen = np.zeros((3,7),dtype=int)\n",
    "screen_final = applyInstructions(instr,screen)\n",
    "print(screen_final)"
   ]
  },
  {
   "cell_type": "code",
   "execution_count": 66,
   "metadata": {},
   "outputs": [
    {
     "name": "stdout",
     "output_type": "stream",
     "text": [
      "115\n"
     ]
    }
   ],
   "source": [
    "with open('data/input08.txt') as f:\n",
    "    instr = [ l.strip(\"\\n\") for l in f.readlines() ]\n",
    "\n",
    "screen = np.zeros((6,50),dtype=int)\n",
    "screen_final = applyInstructions(instr,screen)\n",
    "\n",
    "print(sum(sum(screen_final)))"
   ]
  },
  {
   "cell_type": "code",
   "execution_count": 67,
   "metadata": {},
   "outputs": [
    {
     "data": {
      "text/plain": [
       "<matplotlib.image.AxesImage at 0x1585af790>"
      ]
     },
     "execution_count": 67,
     "metadata": {},
     "output_type": "execute_result"
    },
    {
     "data": {
      "image/png": "[encoded data removed]",
      "text/plain": [
       "<Figure size 432x288 with 1 Axes>"
      ]
     },
     "metadata": {
      "needs_background": "light"
     },
     "output_type": "display_data"
    }
   ],
   "source": [
    "import matplotlib.pyplot as plt\n",
    "\n",
    "plt.imshow(screen_final)"
   ]
  },
  {
   "cell_type": "code",
   "execution_count": null,
   "metadata": {},
   "outputs": [],
   "source": []
  }
 ],
 "metadata": {
  "kernelspec": {
   "display_name": "Python 3",
   "language": "python",
   "name": "python3"
  },
  "language_info": {
   "codemirror_mode": {
    "name": "ipython",
    "version": 3
   },
   "file_extension": ".py",
   "mimetype": "text/x-python",
   "name": "python",
   "nbconvert_exporter": "python",
   "pygments_lexer": "ipython3",
   "version": "3.9.0"
  }
 },
 "nbformat": 4,
 "nbformat_minor": 4
}
